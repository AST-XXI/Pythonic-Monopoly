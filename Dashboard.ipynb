{
 "cells": [
  {
   "cell_type": "markdown",
   "metadata": {},
   "source": [
    "# San Francisco Rental Prices Dashboard\n",
    "\n",
    "In this notebook, you will compile the visualizations from the previous analysis into functions that can be used for a Panel dashboard."
   ]
  },
  {
   "cell_type": "code",
   "execution_count": 26,
   "metadata": {},
   "outputs": [],
   "source": [
    "# imports\n",
    "import panel as pn\n",
    "pn.extension('plotly')\n",
    "import plotly.express as px\n",
    "import pandas as pd\n",
    "import hvplot.pandas\n",
    "import matplotlib.pyplot as plt\n",
    "import os\n",
    "from pathlib import Path\n",
    "from dotenv import load_dotenv\n"
   ]
  },
  {
   "cell_type": "code",
   "execution_count": 2,
   "metadata": {},
   "outputs": [],
   "source": [
    "# Read the Mapbox API key\n",
    "load_dotenv()\n",
    "map_box_api = os.getenv(\"mapbox\")\n",
    "px.set_mapbox_access_token(map_box_api)"
   ]
  },
  {
   "cell_type": "markdown",
   "metadata": {},
   "source": [
    "# Import Data"
   ]
  },
  {
   "cell_type": "code",
   "execution_count": 3,
   "metadata": {},
   "outputs": [],
   "source": [
    "# Import the necessary CSVs to Pandas DataFrames\n",
    "file_path = Path(\"Data/sfo_neighborhoods_census_data.csv\")\n",
    "sfo_data = pd.read_csv(file_path, index_col=\"year\", infer_datetime_format=True,parse_dates=True,)\n",
    "\n",
    "file_path2 = Path(\"Data/neighborhoods_coordinates.csv\")\n",
    "neighborhood_map_coordinates = pd.read_csv(file_path2)\n",
    "\n",
    "\n"
   ]
  },
  {
   "cell_type": "markdown",
   "metadata": {},
   "source": [
    "- - -"
   ]
  },
  {
   "cell_type": "markdown",
   "metadata": {},
   "source": [
    "## Panel Visualizations\n",
    "\n",
    "In this section, you will copy the code for each plot type from your analysis notebook and place it into separate functions that Panel can use to create panes for the dashboard. \n",
    "\n",
    "These functions will convert the plot object to a Panel pane.\n",
    "\n",
    "Be sure to include any DataFrame transformation/manipulation code required along with the plotting code.\n",
    "\n",
    "Return a Panel pane object from each function that can be used to build the dashboard.\n",
    "\n",
    "Note: Remove any `.show()` lines from the code. We want to return the plots instead of showing them. The Panel dashboard will then display the plots."
   ]
  },
  {
   "cell_type": "code",
   "execution_count": 4,
   "metadata": {},
   "outputs": [],
   "source": [
    "# Define Panel Visualization Functions\n",
    "def housing_units_per_year():\n",
    "    \"\"\"Housing Units Per Year.\"\"\"\n",
    "    housing_units_per_yr = (\n",
    "        sfo_data[[\"housing_units\"]].groupby([sfo_data.index.year]).mean()\n",
    "    )\n",
    "    \n",
    "    housing_units_per_yr_fig= px.bar(housing_units_per_yr,\n",
    "                                 title='Housing Units in San Francisco from 2010 to 2016', \n",
    "                                 labels={'value':'Housing Units', 'year':\"Year\"},\n",
    "                                 range_y=(367500, 387500))\n",
    "    return housing_units_per_yr_fig\n",
    "    \n",
    "\n",
    "\n",
    "def average_gross_rent():\n",
    "    \"\"\"Average Gross Rent in San Francisco Per Year.\"\"\"\n",
    "    \n",
    "    average_housing_costs = (\n",
    "    sfo_data[[\"sale_price_sqr_foot\", \"gross_rent\"]].groupby([sfo_data.index.year]).mean()\n",
    "    )\n",
    "    average_montly_rent_fig = average_housing_costs.hvplot.line(\n",
    "        y=[\"gross_rent\"],\n",
    "        xlabel= (\"Years\"),\n",
    "        ylabel= (\"Monthly Rent\"),\n",
    "        label='Average Gross Rent by Year', line_color= \"#2F4F4F\")\n",
    "    return average_montly_rent_fig\n",
    "\n",
    "\n",
    "def average_sales_price():\n",
    "    \"\"\"Average Sales Price Per Year.\"\"\"\n",
    "    \n",
    "    average_housing_costs = (\n",
    "    sfo_data[[\"sale_price_sqr_foot\", \"gross_rent\"]].groupby([sfo_data.index.year]).mean()\n",
    "    )\n",
    "    average_saleprice_prsqft_fig = average_housing_costs.hvplot.line(\n",
    "        y=[\"sale_price_sqr_foot\"],\n",
    "        xlabel= (\"Years\"),\n",
    "        ylabel= (\"Price per SqFt\"),\n",
    "        label='Average Price per SqFt by Year',\n",
    "        line_color= \"#8B0000\")\n",
    "    return average_saleprice_prsqft_fig\n",
    "\n",
    "    \n",
    "\n",
    "\n",
    "\n",
    "def average_price_by_neighborhood():\n",
    "    \"\"\"Average Prices by Neighborhood.\"\"\"\n",
    "    \n",
    "    prices_by_neighborhood =(\n",
    "        sfo_data[['neighborhood', 'sale_price_sqr_foot', 'housing_units', 'gross_rent']]\n",
    "        .groupby([sfo_data.index.year, \"neighborhood\"])\n",
    "        .mean()\n",
    "        .reset_index()\n",
    "    )\n",
    "    avg_price_sqft_neighborhood_fig = prices_by_neighborhood.hvplot.line(\n",
    "        y=[\"sale_price_sqr_foot\"],\n",
    "        x=\"year\",\n",
    "        xlabel= (\"Years\"),\n",
    "        ylabel= (\"Avg. Sale Price per SqFt\"),\n",
    "        groupby= 'neighborhood',\n",
    "        color= (\"#2F4F4F\"),\n",
    "        width=600,\n",
    "    )\n",
    "    avg_monthly_rent_neighborhood_fig = prices_by_neighborhood.hvplot.line(\n",
    "        y=[\"gross_rent\"],\n",
    "        x=\"year\",\n",
    "        xlabel= (\"Years\"),\n",
    "        ylabel= (\"Avg. Gross Rent Year\"),\n",
    "        groupby= 'neighborhood',\n",
    "        color= (\"#8B0000\"),\n",
    "        width=500,\n",
    "    )\n",
    "    return avg_monthly_rent_neighborhood_fig + avg_price_sqft_neighborhood_fig\n",
    "\n",
    "    \n",
    "    \n",
    "def top_most_expensive_neighborhoods():\n",
    "    \"\"\"Top 10 Most Expensive Neighborhoods.\"\"\"\n",
    "\n",
    "    most_expensive =( \n",
    "        sfo_data.groupby([\"neighborhood\"]).mean())\n",
    "    most_exp_sort= most_expensive.nlargest(10, 'sale_price_sqr_foot').reset_index()\n",
    "    most_exp_plot = most_exp_sort.hvplot.bar(\n",
    "        y=\"sale_price_sqr_foot\",\n",
    "        x=(\"neighborhood\"),\n",
    "        xlabel= (\"Neighborhood\"),\n",
    "        ylabel= (\"Avg. Sale Price per Sqr Ft\"),\n",
    "        rot=90,\n",
    "        title= (\"The Top 10 Most Expensive Neighborhoods\"),\n",
    "        color= (\"#2F4F4F\"),\n",
    "        bar_width=0.5,\n",
    "    )\n",
    "    return most_exp_plot\n",
    "\n",
    "\n",
    "\n",
    "def most_expensive_neighborhoods_rent_sales():\n",
    "    \"\"\"Comparison of Rent and Sales Prices of Most Expensive Neighborhoods.\"\"\"   \n",
    "    prices_by_neighborhood =(\n",
    "    sfo_data[['neighborhood', 'sale_price_sqr_foot', 'housing_units', 'gross_rent']]\n",
    "    .groupby([sfo_data.index.year, \"neighborhood\"])\n",
    "    .mean()\n",
    "    .reset_index()\n",
    ")\n",
    "    table = prices_by_neighborhood.groupby(['year', 'neighborhood','sale_price_sqr_foot','gross_rent' ]).mean().reset_index()\n",
    "    most_exp_sqrft_vs_rent_plot = table.hvplot.bar(\n",
    "        y= (\"sale_price_sqr_foot\", \"gross_rent\"),\n",
    "        x=\"year\",\n",
    "        groupby= 'neighborhood', \n",
    "        rot=90,\n",
    "        height= 400,\n",
    "        width=600,\n",
    "        xlabel= (\"Neighborhood\"),\n",
    "        ylabel= (\"Avg. Cost/Rental income\"),\n",
    "        title= (\"Cost to purchase versus rental income\"),\n",
    "    )\n",
    "    return most_exp_sqrft_vs_rent_plot\n",
    "\n",
    "    \n",
    "    \n",
    "#def parallel_coordinates():\n",
    " #   \"\"\"Parallel Coordinates Plot.\"\"\"\n",
    "\n",
    "    # YOUR CODE HERE!\n",
    "\n",
    "\n",
    "\n",
    "#def parallel_categories():\n",
    " #   \"\"\"Parallel Categories Plot.\"\"\"\n",
    "    \n",
    "    # YOUR CODE HERE!\n",
    "\n",
    "\n",
    "\n",
    "def neighborhood_map():\n",
    "    \"\"\"Neighborhood Map.\"\"\"\n",
    "    most_expensive =( \n",
    "    sfo_data.groupby([\"neighborhood\"]).mean())\n",
    "    m_neighborhood= most_expensive.reset_index()\n",
    "    mean_neighborhood= m_neighborhood.drop(columns=[\"neighborhood\"])\n",
    "    avg_neighborhood_locations= pd.concat([neighborhood_map_coordinates, mean_neighborhood], axis=1)\n",
    "    map_1 = px.scatter_mapbox(\n",
    "        avg_neighborhood_locations,\n",
    "        lat=\"Lat\",\n",
    "        lon=\"Lon\",\n",
    "        size=\"sale_price_sqr_foot\",\n",
    "        color=\"gross_rent\",\n",
    "        hover_name= \"Neighborhood\",\n",
    "        color_continuous_scale=px.colors.cyclical.IceFire, size_max=15, zoom=10,\n",
    "        mapbox_style= \"carto-positron\",\n",
    "    )\n",
    "    return map_1\n",
    "\n",
    "#def sunburst():\n",
    "  #  \"\"\"Sunburst Plot.\"\"\"\n",
    "    \n",
    "    # YOUR CODE HERE!\n"
   ]
  },
  {
   "cell_type": "markdown",
   "metadata": {},
   "source": [
    "## Panel Dashboard\n",
    "\n",
    "In this section, you will combine all of the plots into a single dashboard view using Panel. Be creative with your dashboard design!"
   ]
  },
  {
   "cell_type": "code",
   "execution_count": 27,
   "metadata": {},
   "outputs": [
    {
     "data": {},
     "metadata": {},
     "output_type": "display_data"
    },
    {
     "data": {},
     "metadata": {},
     "output_type": "display_data"
    },
    {
     "data": {
      "application/vnd.holoviews_exec.v0+json": "",
      "text/html": [
       "<div id='25736'>\n",
       "\n",
       "\n",
       "\n",
       "\n",
       "\n",
       "  <div class=\"bk-root\" id=\"858cb415-81be-47e9-b258-f380dd8830b9\" data-root-id=\"25736\"></div>\n",
       "</div>\n",
       "<script type=\"application/javascript\">(function(root) {\n",
       "  function embed_document(root) {\n",
       "    var docs_json = {\"c1f6efa3-c1fa-46b1-9ef9-44be963b4b62\":{\"defs\":[{\"extends\":null,\"module\":null,\"name\":\"ReactiveHTML1\",\"overrides\":[],\"properties\":[]},{\"extends\":null,\"module\":null,\"name\":\"FlexBox1\",\"overrides\":[],\"properties\":[{\"default\":\"flex-start\",\"kind\":null,\"name\":\"align_content\"},{\"default\":\"flex-start\",\"kind\":null,\"name\":\"align_items\"},{\"default\":\"row\",\"kind\":null,\"name\":\"flex_direction\"},{\"default\":\"wrap\",\"kind\":null,\"name\":\"flex_wrap\"},{\"default\":\"flex-start\",\"kind\":null,\"name\":\"justify_content\"}]},{\"extends\":null,\"module\":null,\"name\":\"TemplateActions1\",\"overrides\":[],\"properties\":[{\"default\":0,\"kind\":null,\"name\":\"open_modal\"},{\"default\":0,\"kind\":null,\"name\":\"close_modal\"}]},{\"extends\":null,\"module\":null,\"name\":\"MaterialTemplateActions1\",\"overrides\":[],\"properties\":[{\"default\":0,\"kind\":null,\"name\":\"open_modal\"},{\"default\":0,\"kind\":null,\"name\":\"close_modal\"}]}],\"roots\":{\"references\":[{\"attributes\":{},\"id\":\"26052\",\"type\":\"UnionRenderers\"},{\"attributes\":{\"children\":[[{\"id\":\"26221\"},0,0],[{\"id\":\"26268\"},0,1]]},\"id\":\"26335\",\"type\":\"GridBox\"},{\"attributes\":{\"margin\":[20,20,20,20],\"min_width\":250,\"options\":[\"Alamo Square\",\"Anza Vista\",\"Bayview\",\"Buena Vista Park\",\"Central Richmond\",\"Central Sunset\",\"Corona Heights\",\"Cow Hollow\",\"Croker Amazon\",\"Diamond Heights\",\"Downtown \",\"Eureka Valley/Dolores Heights\",\"Excelsior\",\"Financial District North\",\"Financial District South\",\"Forest Knolls\",\"Glen Park\",\"Golden Gate Heights\",\"Haight Ashbury\",\"Hayes Valley\",\"Hunters Point\",\"Ingleside \",\"Inner Mission\",\"Inner Parkside\",\"Inner Richmond\",\"Inner Sunset\",\"Jordan Park/Laurel Heights\",\"Lake --The Presidio\",\"Lone Mountain\",\"Lower Pacific Heights\",\"Marina\",\"Miraloma Park\",\"Mission Bay\",\"Mission Dolores\",\"Mission Terrace\",\"Nob Hill\",\"Noe Valley\",\"Oceanview\",\"Outer Parkside\",\"Outer Richmond \",\"Outer Sunset\",\"Pacific Heights\",\"Park North\",\"Parkside\",\"Parnassus/Ashbury Heights\",\"Portola\",\"Potrero Hill\",\"Presidio Heights\",\"Russian Hill\",\"South Beach\",\"South of Market\",\"Sunnyside\",\"Telegraph Hill\",\"Twin Peaks\",\"Union Square District\",\"Van Ness/ Civic Center\",\"West Portal\",\"Western Addition\",\"Yerba Buena\",\"Bernal Heights \",\"Clarendon Heights\",\"Duboce Triangle\",\"Ingleside Heights\",\"North Beach\",\"North Waterfront\",\"Outer Mission\",\"Westwood Highlands\",\"Merced Heights\",\"Midtown Terrace\",\"Visitacion Valley\",\"Silver Terrace\",\"Westwood Park\",\"Bayview Heights\"],\"title\":\"neighborhood\",\"value\":\"Alamo Square\",\"width\":250},\"id\":\"26535\",\"type\":\"Select\"},{\"attributes\":{\"line_color\":\"#2F4F4F\",\"line_width\":2,\"x\":{\"field\":\"year\"},\"y\":{\"field\":\"sale_price_sqr_foot\"}},\"id\":\"26306\",\"type\":\"Line\"},{\"attributes\":{},\"id\":\"26191\",\"type\":\"BasicTickFormatter\"},{\"attributes\":{\"below\":[{\"id\":\"26277\"}],\"center\":[{\"id\":\"26280\"},{\"id\":\"26284\"}],\"height\":300,\"left\":[{\"id\":\"26281\"}],\"margin\":null,\"min_border_bottom\":10,\"min_border_left\":10,\"min_border_right\":10,\"min_border_top\":10,\"renderers\":[{\"id\":\"26304\"}],\"sizing_mode\":\"fixed\",\"title\":{\"id\":\"26269\"},\"toolbar\":{\"id\":\"26291\"},\"toolbar_location\":null,\"x_range\":{\"id\":\"26073\"},\"x_scale\":{\"id\":\"26273\"},\"y_range\":{\"id\":\"25920\"},\"y_scale\":{\"id\":\"26275\"}},\"id\":\"26268\",\"subtype\":\"Figure\",\"type\":\"Plot\"},{\"attributes\":{\"line_alpha\":0.1,\"line_color\":\"#2F4F4F\",\"line_width\":2,\"x\":{\"field\":\"year\"},\"y\":{\"field\":\"sale_price_sqr_foot\"}},\"id\":\"26302\",\"type\":\"Line\"},{\"attributes\":{\"axis_label\":\"Years\",\"formatter\":{\"id\":\"26309\"},\"major_label_policy\":{\"id\":\"26308\"},\"ticker\":{\"id\":\"26278\"}},\"id\":\"26277\",\"type\":\"LinearAxis\"},{\"attributes\":{\"axis\":{\"id\":\"26277\"},\"grid_line_color\":null,\"ticker\":null},\"id\":\"26280\",\"type\":\"Grid\"},{\"attributes\":{\"data\":[{\"alignmentgroup\":\"True\",\"hovertemplate\":\"variable=housing_units<br>Year=%{x}<br>Housing Units=%{y}<extra></extra>\",\"legendgroup\":\"housing_units\",\"marker\":{\"color\":\"#636efa\",\"pattern\":{\"shape\":\"\"}},\"name\":\"housing_units\",\"offsetgroup\":\"housing_units\",\"orientation\":\"v\",\"showlegend\":true,\"textposition\":\"auto\",\"type\":\"bar\",\"xaxis\":\"x\",\"yaxis\":\"y\"}],\"data_sources\":[{\"id\":\"25904\"}],\"layout\":{\"barmode\":\"relative\",\"legend\":{\"title\":{\"text\":\"variable\"},\"tracegroupgap\":0},\"template\":{\"data\":{\"bar\":[{\"error_x\":{\"color\":\"#2a3f5f\"},\"error_y\":{\"color\":\"#2a3f5f\"},\"marker\":{\"line\":{\"color\":\"#E5ECF6\",\"width\":0.5},\"pattern\":{\"fillmode\":\"overlay\",\"size\":10,\"solidity\":0.2}},\"type\":\"bar\"}],\"barpolar\":[{\"marker\":{\"line\":{\"color\":\"#E5ECF6\",\"width\":0.5},\"pattern\":{\"fillmode\":\"overlay\",\"size\":10,\"solidity\":0.2}},\"type\":\"barpolar\"}],\"carpet\":[{\"aaxis\":{\"endlinecolor\":\"#2a3f5f\",\"gridcolor\":\"white\",\"linecolor\":\"white\",\"minorgridcolor\":\"white\",\"startlinecolor\":\"#2a3f5f\"},\"baxis\":{\"endlinecolor\":\"#2a3f5f\",\"gridcolor\":\"white\",\"linecolor\":\"white\",\"minorgridcolor\":\"white\",\"startlinecolor\":\"#2a3f5f\"},\"type\":\"carpet\"}],\"choropleth\":[{\"colorbar\":{\"outlinewidth\":0,\"ticks\":\"\"},\"type\":\"choropleth\"}],\"contour\":[{\"colorbar\":{\"outlinewidth\":0,\"ticks\":\"\"},\"colorscale\":[[0.0,\"#0d0887\"],[0.1111111111111111,\"#46039f\"],[0.2222222222222222,\"#7201a8\"],[0.3333333333333333,\"#9c179e\"],[0.4444444444444444,\"#bd3786\"],[0.5555555555555556,\"#d8576b\"],[0.6666666666666666,\"#ed7953\"],[0.7777777777777778,\"#fb9f3a\"],[0.8888888888888888,\"#fdca26\"],[1.0,\"#f0f921\"]],\"type\":\"contour\"}],\"contourcarpet\":[{\"colorbar\":{\"outlinewidth\":0,\"ticks\":\"\"},\"type\":\"contourcarpet\"}],\"heatmap\":[{\"colorbar\":{\"outlinewidth\":0,\"ticks\":\"\"},\"colorscale\":[[0.0,\"#0d0887\"],[0.1111111111111111,\"#46039f\"],[0.2222222222222222,\"#7201a8\"],[0.3333333333333333,\"#9c179e\"],[0.4444444444444444,\"#bd3786\"],[0.5555555555555556,\"#d8576b\"],[0.6666666666666666,\"#ed7953\"],[0.7777777777777778,\"#fb9f3a\"],[0.8888888888888888,\"#fdca26\"],[1.0,\"#f0f921\"]],\"type\":\"heatmap\"}],\"heatmapgl\":[{\"colorbar\":{\"outlinewidth\":0,\"ticks\":\"\"},\"colorscale\":[[0.0,\"#0d0887\"],[0.1111111111111111,\"#46039f\"],[0.2222222222222222,\"#7201a8\"],[0.3333333333333333,\"#9c179e\"],[0.4444444444444444,\"#bd3786\"],[0.5555555555555556,\"#d8576b\"],[0.6666666666666666,\"#ed7953\"],[0.7777777777777778,\"#fb9f3a\"],[0.8888888888888888,\"#fdca26\"],[1.0,\"#f0f921\"]],\"type\":\"heatmapgl\"}],\"histogram\":[{\"marker\":{\"pattern\":{\"fillmode\":\"overlay\",\"size\":10,\"solidity\":0.2}},\"type\":\"histogram\"}],\"histogram2d\":[{\"colorbar\":{\"outlinewidth\":0,\"ticks\":\"\"},\"colorscale\":[[0.0,\"#0d0887\"],[0.1111111111111111,\"#46039f\"],[0.2222222222222222,\"#7201a8\"],[0.3333333333333333,\"#9c179e\"],[0.4444444444444444,\"#bd3786\"],[0.5555555555555556,\"#d8576b\"],[0.6666666666666666,\"#ed7953\"],[0.7777777777777778,\"#fb9f3a\"],[0.8888888888888888,\"#fdca26\"],[1.0,\"#f0f921\"]],\"type\":\"histogram2d\"}],\"histogram2dcontour\":[{\"colorbar\":{\"outlinewidth\":0,\"ticks\":\"\"},\"colorscale\":[[0.0,\"#0d0887\"],[0.1111111111111111,\"#46039f\"],[0.2222222222222222,\"#7201a8\"],[0.3333333333333333,\"#9c179e\"],[0.4444444444444444,\"#bd3786\"],[0.5555555555555556,\"#d8576b\"],[0.6666666666666666,\"#ed7953\"],[0.7777777777777778,\"#fb9f3a\"],[0.8888888888888888,\"#fdca26\"],[1.0,\"#f0f921\"]],\"type\":\"histogram2dcontour\"}],\"mesh3d\":[{\"colorbar\":{\"outlinewidth\":0,\"ticks\":\"\"},\"type\":\"mesh3d\"}],\"parcoords\":[{\"line\":{\"colorbar\":{\"outlinewidth\":0,\"ticks\":\"\"}},\"type\":\"parcoords\"}],\"pie\":[{\"automargin\":true,\"type\":\"pie\"}],\"scatter\":[{\"marker\":{\"colorbar\":{\"outlinewidth\":0,\"ticks\":\"\"}},\"type\":\"scatter\"}],\"scatter3d\":[{\"line\":{\"colorbar\":{\"outlinewidth\":0,\"ticks\":\"\"}},\"marker\":{\"colorbar\":{\"outlinewidth\":0,\"ticks\":\"\"}},\"type\":\"scatter3d\"}],\"scattercarpet\":[{\"marker\":{\"colorbar\":{\"outlinewidth\":0,\"ticks\":\"\"}},\"type\":\"scattercarpet\"}],\"scattergeo\":[{\"marker\":{\"colorbar\":{\"outlinewidth\":0,\"ticks\":\"\"}},\"type\":\"scattergeo\"}],\"scattergl\":[{\"marker\":{\"colorbar\":{\"outlinewidth\":0,\"ticks\":\"\"}},\"type\":\"scattergl\"}],\"scattermapbox\":[{\"marker\":{\"colorbar\":{\"outlinewidth\":0,\"ticks\":\"\"}},\"type\":\"scattermapbox\"}],\"scatterpolar\":[{\"marker\":{\"colorbar\":{\"outlinewidth\":0,\"ticks\":\"\"}},\"type\":\"scatterpolar\"}],\"scatterpolargl\":[{\"marker\":{\"colorbar\":{\"outlinewidth\":0,\"ticks\":\"\"}},\"type\":\"scatterpolargl\"}],\"scatterternary\":[{\"marker\":{\"colorbar\":{\"outlinewidth\":0,\"ticks\":\"\"}},\"type\":\"scatterternary\"}],\"surface\":[{\"colorbar\":{\"outlinewidth\":0,\"ticks\":\"\"},\"colorscale\":[[0.0,\"#0d0887\"],[0.1111111111111111,\"#46039f\"],[0.2222222222222222,\"#7201a8\"],[0.3333333333333333,\"#9c179e\"],[0.4444444444444444,\"#bd3786\"],[0.5555555555555556,\"#d8576b\"],[0.6666666666666666,\"#ed7953\"],[0.7777777777777778,\"#fb9f3a\"],[0.8888888888888888,\"#fdca26\"],[1.0,\"#f0f921\"]],\"type\":\"surface\"}],\"table\":[{\"cells\":{\"fill\":{\"color\":\"#EBF0F8\"},\"line\":{\"color\":\"white\"}},\"header\":{\"fill\":{\"color\":\"#C8D4E3\"},\"line\":{\"color\":\"white\"}},\"type\":\"table\"}]},\"layout\":{\"annotationdefaults\":{\"arrowcolor\":\"#2a3f5f\",\"arrowhead\":0,\"arrowwidth\":1},\"autotypenumbers\":\"strict\",\"coloraxis\":{\"colorbar\":{\"outlinewidth\":0,\"ticks\":\"\"}},\"colorscale\":{\"diverging\":[[0,\"#8e0152\"],[0.1,\"#c51b7d\"],[0.2,\"#de77ae\"],[0.3,\"#f1b6da\"],[0.4,\"#fde0ef\"],[0.5,\"#f7f7f7\"],[0.6,\"#e6f5d0\"],[0.7,\"#b8e186\"],[0.8,\"#7fbc41\"],[0.9,\"#4d9221\"],[1,\"#276419\"]],\"sequential\":[[0.0,\"#0d0887\"],[0.1111111111111111,\"#46039f\"],[0.2222222222222222,\"#7201a8\"],[0.3333333333333333,\"#9c179e\"],[0.4444444444444444,\"#bd3786\"],[0.5555555555555556,\"#d8576b\"],[0.6666666666666666,\"#ed7953\"],[0.7777777777777778,\"#fb9f3a\"],[0.8888888888888888,\"#fdca26\"],[1.0,\"#f0f921\"]],\"sequentialminus\":[[0.0,\"#0d0887\"],[0.1111111111111111,\"#46039f\"],[0.2222222222222222,\"#7201a8\"],[0.3333333333333333,\"#9c179e\"],[0.4444444444444444,\"#bd3786\"],[0.5555555555555556,\"#d8576b\"],[0.6666666666666666,\"#ed7953\"],[0.7777777777777778,\"#fb9f3a\"],[0.8888888888888888,\"#fdca26\"],[1.0,\"#f0f921\"]]},\"colorway\":[\"#636efa\",\"#EF553B\",\"#00cc96\",\"#ab63fa\",\"#FFA15A\",\"#19d3f3\",\"#FF6692\",\"#B6E880\",\"#FF97FF\",\"#FECB52\"],\"font\":{\"color\":\"#2a3f5f\"},\"geo\":{\"bgcolor\":\"white\",\"lakecolor\":\"white\",\"landcolor\":\"#E5ECF6\",\"showlakes\":true,\"showland\":true,\"subunitcolor\":\"white\"},\"hoverlabel\":{\"align\":\"left\"},\"hovermode\":\"closest\",\"mapbox\":{\"style\":\"light\"},\"paper_bgcolor\":\"white\",\"plot_bgcolor\":\"#E5ECF6\",\"polar\":{\"angularaxis\":{\"gridcolor\":\"white\",\"linecolor\":\"white\",\"ticks\":\"\"},\"bgcolor\":\"#E5ECF6\",\"radialaxis\":{\"gridcolor\":\"white\",\"linecolor\":\"white\",\"ticks\":\"\"}},\"scene\":{\"xaxis\":{\"backgroundcolor\":\"#E5ECF6\",\"gridcolor\":\"white\",\"gridwidth\":2,\"linecolor\":\"white\",\"showbackground\":true,\"ticks\":\"\",\"zerolinecolor\":\"white\"},\"yaxis\":{\"backgroundcolor\":\"#E5ECF6\",\"gridcolor\":\"white\",\"gridwidth\":2,\"linecolor\":\"white\",\"showbackground\":true,\"ticks\":\"\",\"zerolinecolor\":\"white\"},\"zaxis\":{\"backgroundcolor\":\"#E5ECF6\",\"gridcolor\":\"white\",\"gridwidth\":2,\"linecolor\":\"white\",\"showbackground\":true,\"ticks\":\"\",\"zerolinecolor\":\"white\"}},\"shapedefaults\":{\"line\":{\"color\":\"#2a3f5f\"}},\"ternary\":{\"aaxis\":{\"gridcolor\":\"white\",\"linecolor\":\"white\",\"ticks\":\"\"},\"baxis\":{\"gridcolor\":\"white\",\"linecolor\":\"white\",\"ticks\":\"\"},\"bgcolor\":\"#E5ECF6\",\"caxis\":{\"gridcolor\":\"white\",\"linecolor\":\"white\",\"ticks\":\"\"}},\"title\":{\"x\":0.05},\"xaxis\":{\"automargin\":true,\"gridcolor\":\"white\",\"linecolor\":\"white\",\"ticks\":\"\",\"title\":{\"standoff\":15},\"zerolinecolor\":\"white\",\"zerolinewidth\":2},\"yaxis\":{\"automargin\":true,\"gridcolor\":\"white\",\"linecolor\":\"white\",\"ticks\":\"\",\"title\":{\"standoff\":15},\"zerolinecolor\":\"white\",\"zerolinewidth\":2}}},\"title\":{\"text\":\"Housing Units in San Francisco from 2010 to 2016\"},\"xaxis\":{\"anchor\":\"y\",\"domain\":[0.0,1.0],\"title\":{\"text\":\"Year\"}},\"yaxis\":{\"anchor\":\"x\",\"domain\":[0.0,1.0],\"range\":[367500,387500],\"title\":{\"text\":\"Housing Units\"}}},\"margin\":[5,5,5,5],\"name\":\"interactive22470\",\"viewport_update_throttle\":200},\"id\":\"25905\",\"type\":\"panel.models.plotly.PlotlyPlot\"},{\"attributes\":{\"source\":{\"id\":\"26298\"}},\"id\":\"26305\",\"type\":\"CDSView\"},{\"attributes\":{\"children\":[{\"id\":\"25922\"}],\"margin\":[0,0,0,0],\"name\":\"Row24236\"},\"id\":\"25918\",\"type\":\"Row\"},{\"attributes\":{},\"id\":\"25964\",\"type\":\"AllLabels\"},{\"attributes\":{},\"id\":\"25952\",\"type\":\"Selection\"},{\"attributes\":{},\"id\":\"26000\",\"type\":\"LinearScale\"},{\"attributes\":{},\"id\":\"26273\",\"type\":\"LinearScale\"},{\"attributes\":{\"axis_label\":\"Avg. Sale Price per Sqr Ft\",\"formatter\":{\"id\":\"25789\"},\"major_label_policy\":{\"id\":\"25788\"},\"ticker\":{\"id\":\"25759\"}},\"id\":\"25758\",\"type\":\"LinearAxis\"},{\"attributes\":{\"data\":{\"x\":[[2010,2011,2012,2013,2014,2015,2016]],\"y\":[[372560,374507,376454,378401,380348,382295,384242]]},\"selected\":{\"id\":\"26573\"},\"selection_policy\":{\"id\":\"26572\"}},\"id\":\"25904\",\"type\":\"ColumnDataSource\"},{\"attributes\":{\"child\":{\"id\":\"26213\"},\"name\":\"Row23976\",\"title\":\"Average Prices by Neighborhood\"},\"id\":\"26537\",\"type\":\"Panel\"},{\"attributes\":{\"text_color\":\"black\",\"text_font_size\":\"12pt\"},\"id\":\"26269\",\"type\":\"Title\"},{\"attributes\":{\"axis\":{\"id\":\"25755\"},\"grid_line_color\":null,\"ticker\":null},\"id\":\"25757\",\"type\":\"Grid\"},{\"attributes\":{},\"id\":\"25858\",\"type\":\"AllLabels\"},{\"attributes\":{\"callback\":null,\"renderers\":[{\"id\":\"26257\"}],\"tags\":[\"hv_created\"],\"tooltips\":[[\"year\",\"@{year}\"],[\"gross_rent\",\"@{gross_rent}\"]]},\"id\":\"26220\",\"type\":\"HoverTool\"},{\"attributes\":{},\"id\":\"26275\",\"type\":\"LinearScale\"},{\"attributes\":{\"axis_label\":\"Avg. Sale Price per SqFt\",\"formatter\":{\"id\":\"26312\"},\"major_label_policy\":{\"id\":\"26311\"},\"ticker\":{\"id\":\"26282\"}},\"id\":\"26281\",\"type\":\"LinearAxis\"},{\"attributes\":{},\"id\":\"26278\",\"type\":\"BasicTicker\"},{\"attributes\":{},\"id\":\"25789\",\"type\":\"BasicTickFormatter\"},{\"attributes\":{\"reload\":false},\"id\":\"27648\",\"type\":\"panel.models.location.Location\"},{\"attributes\":{\"source\":{\"id\":\"25951\"}},\"id\":\"25958\",\"type\":\"CDSView\"},{\"attributes\":{},\"id\":\"26282\",\"type\":\"BasicTicker\"},{\"attributes\":{\"children\":[{\"id\":\"26535\"}],\"css_classes\":[\"panel-widget-box\"],\"margin\":[5,5,5,5],\"name\":\"WidgetBox23967\"},\"id\":\"26534\",\"type\":\"Column\"},{\"attributes\":{\"axis\":{\"id\":\"26281\"},\"dimension\":1,\"grid_line_color\":null,\"ticker\":null},\"id\":\"26284\",\"type\":\"Grid\"},{\"attributes\":{},\"id\":\"25756\",\"type\":\"CategoricalTicker\"},{\"attributes\":{\"line_alpha\":0.2,\"line_color\":\"#2F4F4F\",\"line_width\":2,\"x\":{\"field\":\"year\"},\"y\":{\"field\":\"sale_price_sqr_foot\"}},\"id\":\"26303\",\"type\":\"Line\"},{\"attributes\":{\"active_multi\":null,\"tools\":[{\"id\":\"25816\"},{\"id\":\"25833\"},{\"id\":\"25834\"},{\"id\":\"25835\"},{\"id\":\"25836\"},{\"id\":\"25837\"}]},\"id\":\"25839\",\"type\":\"Toolbar\"},{\"attributes\":{\"children\":[{\"id\":\"26217\"}],\"margin\":[0,0,0,0],\"name\":\"Row23974\"},\"id\":\"26216\",\"type\":\"Row\"},{\"attributes\":{\"fill_alpha\":{\"value\":0.1},\"fill_color\":{\"field\":\"Variable\",\"transform\":{\"id\":\"25846\"}},\"line_alpha\":{\"value\":0.1},\"top\":{\"field\":\"value\"},\"width\":{\"value\":0.8},\"x\":{\"field\":\"xoffsets\"}},\"id\":\"25851\",\"type\":\"VBar\"},{\"attributes\":{\"axis\":{\"id\":\"25758\"},\"dimension\":1,\"grid_line_color\":null,\"ticker\":null},\"id\":\"25761\",\"type\":\"Grid\"},{\"attributes\":{\"line_color\":\"#2F4F4F\",\"line_width\":2,\"x\":{\"field\":\"year\"},\"y\":{\"field\":\"sale_price_sqr_foot\"}},\"id\":\"26301\",\"type\":\"Line\"},{\"attributes\":{\"data_source\":{\"id\":\"26298\"},\"glyph\":{\"id\":\"26301\"},\"hover_glyph\":null,\"muted_glyph\":{\"id\":\"26303\"},\"nonselection_glyph\":{\"id\":\"26302\"},\"selection_glyph\":{\"id\":\"26306\"},\"view\":{\"id\":\"26305\"}},\"id\":\"26304\",\"type\":\"GlyphRenderer\"},{\"attributes\":{},\"id\":\"25788\",\"type\":\"AllLabels\"},{\"attributes\":{\"children\":[{\"id\":\"26340\"},{\"id\":\"26533\"}],\"margin\":[0,0,0,0],\"name\":\"interactive23913\"},\"id\":\"26217\",\"type\":\"Row\"},{\"attributes\":{\"children\":[{\"id\":\"26065\"},{\"id\":\"26067\"}],\"margin\":[0,0,0,0],\"name\":\"Column24273\"},\"id\":\"26064\",\"type\":\"Column\"},{\"attributes\":{\"margin\":[0,0,0,0],\"name\":\"Column23975\"},\"id\":\"26215\",\"type\":\"Column\"},{\"attributes\":{},\"id\":\"26285\",\"type\":\"SaveTool\"},{\"attributes\":{\"children\":[{\"id\":\"26142\"},{\"id\":\"26143\"}],\"margin\":[0,0,0,0],\"name\":\"Column24062\"},\"id\":\"26141\",\"type\":\"Column\"},{\"attributes\":{\"callback\":null,\"renderers\":[{\"id\":\"26029\"}],\"tags\":[\"hv_created\"],\"tooltips\":[[\"year\",\"@{year}\"],[\"Variable\",\"@{Variable}\"],[\"value\",\"@{value}\"]]},\"id\":\"25992\",\"type\":\"HoverTool\"},{\"attributes\":{},\"id\":\"26286\",\"type\":\"PanTool\"},{\"attributes\":{},\"id\":\"26289\",\"type\":\"ResetTool\"},{\"attributes\":{},\"id\":\"26287\",\"type\":\"WheelZoomTool\"},{\"attributes\":{\"children\":[{\"id\":\"25746\"}],\"margin\":[0,0,0,0],\"name\":\"Row24236\"},\"id\":\"25742\",\"type\":\"Row\"},{\"attributes\":{\"children\":[{\"id\":\"25889\"},{\"id\":\"25891\"}],\"margin\":[0,0,0,0],\"name\":\"Column24273\"},\"id\":\"25888\",\"type\":\"Column\"},{\"attributes\":{},\"id\":\"26119\",\"type\":\"AllLabels\"},{\"attributes\":{\"source\":{\"id\":\"25775\"}},\"id\":\"25782\",\"type\":\"CDSView\"},{\"attributes\":{\"bottom\":{\"value\":0},\"fill_alpha\":{\"value\":1.0},\"fill_color\":{\"field\":\"Variable\",\"transform\":{\"id\":\"25846\"}},\"hatch_alpha\":{\"value\":1.0},\"hatch_color\":{\"value\":\"black\"},\"hatch_scale\":{\"value\":12.0},\"hatch_weight\":{\"value\":1.0},\"line_alpha\":{\"value\":1.0},\"line_cap\":{\"value\":\"butt\"},\"line_color\":{\"value\":\"black\"},\"line_dash\":{\"value\":[]},\"line_dash_offset\":{\"value\":0},\"line_join\":{\"value\":\"bevel\"},\"line_width\":{\"value\":1},\"top\":{\"field\":\"value\"},\"width\":{\"value\":0.8},\"x\":{\"field\":\"xoffsets\"}},\"id\":\"25855\",\"type\":\"VBar\"},{\"attributes\":{\"overlay\":{\"id\":\"26290\"}},\"id\":\"26288\",\"type\":\"BoxZoomTool\"},{\"attributes\":{\"margin\":[5,5,5,5],\"name\":\"VSpacer24272\",\"sizing_mode\":\"stretch_height\"},\"id\":\"25891\",\"type\":\"Spacer\"},{\"attributes\":{},\"id\":\"25759\",\"type\":\"BasicTicker\"},{\"attributes\":{},\"id\":\"26120\",\"type\":\"BasicTickFormatter\"},{\"attributes\":{\"children\":[{\"id\":\"26534\"},{\"id\":\"26536\"}],\"margin\":[0,0,0,0],\"name\":\"Column23973\"},\"id\":\"26533\",\"type\":\"Column\"},{\"attributes\":{\"bottom\":{\"value\":0},\"fill_alpha\":{\"value\":1.0},\"fill_color\":{\"value\":\"#2F4F4F\"},\"hatch_alpha\":{\"value\":1.0},\"hatch_color\":{\"value\":\"black\"},\"hatch_scale\":{\"value\":12.0},\"hatch_weight\":{\"value\":1.0},\"line_alpha\":{\"value\":1.0},\"line_cap\":{\"value\":\"butt\"},\"line_color\":{\"value\":\"black\"},\"line_dash\":{\"value\":[]},\"line_dash_offset\":{\"value\":0},\"line_join\":{\"value\":\"bevel\"},\"line_width\":{\"value\":1},\"top\":{\"field\":\"sale_price_sqr_foot\"},\"width\":{\"value\":0.5},\"x\":{\"field\":\"neighborhood\"}},\"id\":\"25783\",\"type\":\"VBar\"},{\"attributes\":{},\"id\":\"25860\",\"type\":\"AllLabels\"},{\"attributes\":{\"children\":[{\"id\":\"25987\"},{\"id\":\"25988\"}],\"margin\":[0,0,0,0],\"name\":\"Column24240\"},\"id\":\"25986\",\"type\":\"Column\"},{\"attributes\":{},\"id\":\"25856\",\"type\":\"CategoricalTickFormatter\"},{\"attributes\":{},\"id\":\"26321\",\"type\":\"UnionRenderers\"},{\"attributes\":{\"callback\":null,\"renderers\":[{\"id\":\"26304\"}],\"tags\":[\"hv_created\"],\"tooltips\":[[\"year\",\"@{year}\"],[\"sale_price_sqr_foot\",\"@{sale_price_sqr_foot}\"]]},\"id\":\"26267\",\"type\":\"HoverTool\"},{\"attributes\":{\"active_multi\":null,\"tools\":[{\"id\":\"26267\"},{\"id\":\"26285\"},{\"id\":\"26286\"},{\"id\":\"26287\"},{\"id\":\"26288\"},{\"id\":\"26289\"}]},\"id\":\"26291\",\"type\":\"Toolbar\"},{\"attributes\":{\"children\":[{\"id\":\"25893\"},{\"id\":\"25894\"}],\"margin\":[0,0,0,0],\"name\":\"Column24152\"},\"id\":\"25892\",\"type\":\"Column\"},{\"attributes\":{\"margin\":[0,0,0,0],\"name\":\"Column24151\"},\"id\":\"25910\",\"type\":\"Column\"},{\"attributes\":{},\"id\":\"26117\",\"type\":\"BasicTickFormatter\"},{\"attributes\":{\"children\":[{\"id\":\"25908\"},{\"id\":\"25909\"}],\"margin\":[0,0,0,0],\"name\":\"Column24152\"},\"id\":\"25907\",\"type\":\"Column\"},{\"attributes\":{\"css_classes\":[\"markdown\"],\"margin\":[5,5,5,5],\"name\":\"Markdown24276\",\"text\":\"&lt;h1&gt;San Francisco Rental Prices Dashboard&lt;/h1&gt;\"},\"id\":\"25738\",\"type\":\"panel.models.markup.HTML\"},{\"attributes\":{},\"id\":\"26190\",\"type\":\"AllLabels\"},{\"attributes\":{\"data\":{\"Variable\":[\"sale_price_sqr_foot\",\"sale_price_sqr_foot\",\"sale_price_sqr_foot\",\"sale_price_sqr_foot\",\"sale_price_sqr_foot\",\"sale_price_sqr_foot\",\"sale_price_sqr_foot\",\"gross_rent\",\"gross_rent\",\"gross_rent\",\"gross_rent\",\"gross_rent\",\"gross_rent\",\"gross_rent\"],\"value\":{\"__ndarray__\":\"Dkc7WO0yckCafszcbwhxQIGRs5ot42ZAJzog0LQ8eEAWMinKGEd+QI0V5FDt0IJAVCHcmLVPdUAAAAAAAFyTQAAAAAAA6JdAAAAAAAAookAAAAAAADanQAAAAAAAkKtAAAAAAAA2rUAAAAAAACaxQA==\",\"dtype\":\"float64\",\"order\":\"little\",\"shape\":[14]},\"xoffsets\":[[\"2010\",\"sale_price_sqr_foot\"],[\"2011\",\"sale_price_sqr_foot\"],[\"2012\",\"sale_price_sqr_foot\"],[\"2013\",\"sale_price_sqr_foot\"],[\"2014\",\"sale_price_sqr_foot\"],[\"2015\",\"sale_price_sqr_foot\"],[\"2016\",\"sale_price_sqr_foot\"],[\"2010\",\"gross_rent\"],[\"2011\",\"gross_rent\"],[\"2012\",\"gross_rent\"],[\"2013\",\"gross_rent\"],[\"2014\",\"gross_rent\"],[\"2015\",\"gross_rent\"],[\"2016\",\"gross_rent\"]],\"year\":[\"2010\",\"2011\",\"2012\",\"2013\",\"2014\",\"2015\",\"2016\",\"2010\",\"2011\",\"2012\",\"2013\",\"2014\",\"2015\",\"2016\"]},\"selected\":{\"id\":\"26024\"},\"selection_policy\":{\"id\":\"26052\"}},\"id\":\"26023\",\"type\":\"ColumnDataSource\"},{\"attributes\":{\"bottom_units\":\"screen\",\"fill_alpha\":0.5,\"fill_color\":\"lightgrey\",\"left_units\":\"screen\",\"level\":\"overlay\",\"line_alpha\":1.0,\"line_color\":\"black\",\"line_dash\":[4,4],\"line_width\":2,\"right_units\":\"screen\",\"syncable\":false,\"top_units\":\"screen\"},\"id\":\"26290\",\"type\":\"BoxAnnotation\"},{\"attributes\":{},\"id\":\"25861\",\"type\":\"BasicTickFormatter\"},{\"attributes\":{},\"id\":\"25935\",\"type\":\"BasicTicker\"},{\"attributes\":{\"bottom\":{\"value\":0},\"fill_alpha\":{\"value\":1.0},\"fill_color\":{\"value\":\"#2F4F4F\"},\"hatch_alpha\":{\"value\":1.0},\"hatch_color\":{\"value\":\"black\"},\"hatch_scale\":{\"value\":12.0},\"hatch_weight\":{\"value\":1.0},\"line_alpha\":{\"value\":1.0},\"line_cap\":{\"value\":\"butt\"},\"line_color\":{\"value\":\"black\"},\"line_dash\":{\"value\":[]},\"line_dash_offset\":{\"value\":0},\"line_join\":{\"value\":\"bevel\"},\"line_width\":{\"value\":1},\"top\":{\"field\":\"sale_price_sqr_foot\"},\"width\":{\"value\":0.5},\"x\":{\"field\":\"neighborhood\"}},\"id\":\"25959\",\"type\":\"VBar\"},{\"attributes\":{\"line_alpha\":0.1,\"line_color\":\"#8B0000\",\"line_width\":2,\"x\":{\"field\":\"year\"},\"y\":{\"field\":\"sale_price_sqr_foot\"}},\"id\":\"26181\",\"type\":\"Line\"},{\"attributes\":{},\"id\":\"26003\",\"type\":\"CategoricalTicker\"},{\"attributes\":{\"axis\":{\"id\":\"25934\"},\"dimension\":1,\"grid_line_color\":null,\"ticker\":null},\"id\":\"25937\",\"type\":\"Grid\"},{\"attributes\":{\"axis\":{\"id\":\"25931\"},\"grid_line_color\":null,\"ticker\":null},\"id\":\"25933\",\"type\":\"Grid\"},{\"attributes\":{},\"id\":\"26161\",\"type\":\"BasicTicker\"},{\"attributes\":{\"child\":{\"id\":\"25737\"},\"name\":\"Column24278\",\"title\":\"All Plots\"},\"id\":\"25906\",\"type\":\"Panel\"},{\"attributes\":{\"below\":[{\"id\":\"25826\"}],\"center\":[{\"id\":\"25828\"},{\"id\":\"25832\"}],\"height\":400,\"left\":[{\"id\":\"25829\"}],\"margin\":[5,5,5,5],\"min_border_bottom\":10,\"min_border_left\":10,\"min_border_right\":10,\"min_border_top\":10,\"renderers\":[{\"id\":\"25853\"}],\"sizing_mode\":\"fixed\",\"title\":{\"id\":\"25818\"},\"toolbar\":{\"id\":\"25839\"},\"x_range\":{\"id\":\"25814\"},\"x_scale\":{\"id\":\"25822\"},\"y_range\":{\"id\":\"25815\"},\"y_scale\":{\"id\":\"25824\"}},\"id\":\"25817\",\"subtype\":\"Figure\",\"type\":\"Plot\"},{\"attributes\":{\"callback\":null,\"renderers\":[{\"id\":\"26183\"}],\"tags\":[\"hv_created\"],\"tooltips\":[[\"year\",\"@{year}\"],[\"sale_price_sqr_foot\",\"@{sale_price_sqr_foot}\"]]},\"id\":\"26146\",\"type\":\"HoverTool\"},{\"attributes\":{},\"id\":\"26309\",\"type\":\"BasicTickFormatter\"},{\"attributes\":{\"line_color\":\"#8B0000\",\"line_width\":2,\"x\":{\"field\":\"year\"},\"y\":{\"field\":\"sale_price_sqr_foot\"}},\"id\":\"26180\",\"type\":\"Line\"},{\"attributes\":{},\"id\":\"25940\",\"type\":\"WheelZoomTool\"},{\"attributes\":{},\"id\":\"26312\",\"type\":\"BasicTickFormatter\"},{\"attributes\":{},\"id\":\"26083\",\"type\":\"LinearScale\"},{\"attributes\":{\"end\":4810.690068306854,\"reset_end\":4810.690068306854,\"reset_start\":0.0,\"tags\":[[[\"value\",\"value\",null]]]},\"id\":\"25991\",\"type\":\"Range1d\"},{\"attributes\":{\"axis_label\":\"Neighborhood\",\"formatter\":{\"id\":\"26032\"},\"major_label_orientation\":1.5707963267948966,\"major_label_policy\":{\"id\":\"26034\"},\"ticker\":{\"id\":\"26003\"}},\"id\":\"26002\",\"type\":\"CategoricalAxis\"},{\"attributes\":{\"axis\":{\"id\":\"26156\"},\"grid_line_color\":null,\"ticker\":null},\"id\":\"26159\",\"type\":\"Grid\"},{\"attributes\":{},\"id\":\"25848\",\"type\":\"Selection\"},{\"attributes\":{},\"id\":\"26311\",\"type\":\"AllLabels\"},{\"attributes\":{},\"id\":\"26081\",\"type\":\"LinearScale\"},{\"attributes\":{\"children\":[{\"id\":\"25890\"}],\"css_classes\":[\"panel-widget-box\"],\"margin\":[5,5,5,5],\"name\":\"WidgetBox24267\"},\"id\":\"25889\",\"type\":\"Column\"},{\"attributes\":{\"axis_label\":\"Price per SqFt\",\"formatter\":{\"id\":\"26191\"},\"major_label_policy\":{\"id\":\"26190\"},\"ticker\":{\"id\":\"26161\"}},\"id\":\"26160\",\"type\":\"LinearAxis\"},{\"attributes\":{\"axis_label\":\"Neighborhood\",\"formatter\":{\"id\":\"25960\"},\"major_label_orientation\":1.5707963267948966,\"major_label_policy\":{\"id\":\"25962\"},\"ticker\":{\"id\":\"25932\"}},\"id\":\"25931\",\"type\":\"CategoricalAxis\"},{\"attributes\":{\"end\":4705.1,\"reset_end\":4705.1,\"reset_start\":923.9,\"start\":923.9,\"tags\":[[[\"gross_rent\",\"gross_rent\",null]]]},\"id\":\"26074\",\"type\":\"Range1d\"},{\"attributes\":{\"data\":{\"neighborhood\":[\"Union Square District\",\"Merced Heights\",\"Miraloma Park\",\"Pacific Heights\",\"Westwood Park\",\"Telegraph Hill\",\"Presidio Heights\",\"Cow Hollow\",\"Potrero Hill\",\"South Beach\"],\"sale_price_sqr_foot\":{\"__ndarray__\":\"JRAUMfI/jEB9IrkvwqaIQFx/3pp8XohAFpsVUHKMhUBs0ERas3iFQL0KhXgNJIVAy835O80ahUANV25bts+EQJrMCuEbsIRAya3y7v5QhEA=\",\"dtype\":\"float64\",\"order\":\"little\",\"shape\":[10]}},\"selected\":{\"id\":\"25776\"},\"selection_policy\":{\"id\":\"25798\"}},\"id\":\"25775\",\"type\":\"ColumnDataSource\"},{\"attributes\":{\"axis_label\":\"Neighborhood\",\"formatter\":{\"id\":\"25856\"},\"major_label_orientation\":1.5707963267948966,\"major_label_policy\":{\"id\":\"25858\"},\"ticker\":{\"id\":\"25827\"}},\"id\":\"25826\",\"type\":\"CategoricalAxis\"},{\"attributes\":{\"factors\":[\"sale_price_sqr_foot\",\"gross_rent\"],\"palette\":[\"#30a2da\",\"#fc4f30\"]},\"id\":\"25846\",\"type\":\"CategoricalColorMapper\"},{\"attributes\":{\"children\":[{\"id\":\"26147\"}],\"margin\":[0,0,0,0],\"name\":\"Row24142\"},\"id\":\"26143\",\"type\":\"Row\"},{\"attributes\":{},\"id\":\"25876\",\"type\":\"UnionRenderers\"},{\"attributes\":{\"children\":[{\"id\":\"26214\"}],\"margin\":[0,0,0,0],\"name\":\"Row23976\"},\"id\":\"26213\",\"type\":\"Row\"},{\"attributes\":{},\"id\":\"26154\",\"type\":\"LinearScale\"},{\"attributes\":{\"text\":\"Cost to purchase versus rental income\",\"text_color\":\"black\",\"text_font_size\":\"12pt\"},\"id\":\"25994\",\"type\":\"Title\"},{\"attributes\":{},\"id\":\"26090\",\"type\":\"BasicTicker\"},{\"attributes\":{},\"id\":\"25827\",\"type\":\"CategoricalTicker\"},{\"attributes\":{\"axis_label\":\"Years\",\"formatter\":{\"id\":\"26188\"},\"major_label_policy\":{\"id\":\"26187\"},\"ticker\":{\"id\":\"26157\"}},\"id\":\"26156\",\"type\":\"LinearAxis\"},{\"attributes\":{\"bottom_units\":\"screen\",\"fill_alpha\":0.5,\"fill_color\":\"lightgrey\",\"left_units\":\"screen\",\"level\":\"overlay\",\"line_alpha\":1.0,\"line_color\":\"black\",\"line_dash\":[4,4],\"line_width\":2,\"right_units\":\"screen\",\"syncable\":false,\"top_units\":\"screen\"},\"id\":\"26098\",\"type\":\"BoxAnnotation\"},{\"attributes\":{\"data\":{\"hovertext\":[[\"Alamo Square\",\"Anza Vista\",\"Bayview\",\"Bayview Heights\",\"Bernal Heights\",\"Buena Vista Park\",\"Central Richmond\",\"Central Sunset\",\"Clarendon Heights\",\"Corona Heights\",\"Cow Hollow\",\"Croker Amazon\",\"Diamond Heights\",\"Downtown\",\"Duboce Triangle\",\"Eureka Valley/Dolores Heights\",\"Excelsior\",\"Financial District North\",\"Financial District South\",\"Forest Knolls\",\"Glen Park\",\"Golden Gate Heights\",\"Haight Ashbury\",\"Hayes Valley\",\"Hunters Point\",\"Ingleside\",\"Ingleside Heights\",\"Inner Mission\",\"Inner Parkside\",\"Inner Richmond\",\"Inner Sunset\",\"Jordan Park/Laurel Heights\",\"Lake --The Presidio\",\"Lone Mountain\",\"Lower Pacific Heights\",\"Marina\",\"Merced Heights\",\"Midtown Terrace\",\"Miraloma Park\",\"Mission Bay\",\"Mission Dolores\",\"Mission Terrace\",\"Nob Hill\",\"Noe Valley\",\"North Beach\",\"North Waterfront\",\"Oceanview\",\"Outer Mission\",\"Outer Parkside\",\"Outer Richmond\",\"Outer Sunset\",\"Pacific Heights\",\"Park North\",\"Parkside\",\"Parnassus/Ashbury Heights\",\"Portola\",\"Potrero Hill\",\"Presidio Heights\",\"Russian Hill\",\"Silver Terrace\",\"South Beach\",\"South of Market\",\"Sunnyside\",\"Telegraph Hill\",\"Twin Peaks\",\"Union Square District\",\"Van Ness/ Civic Center\",\"Visitacion Valley\",\"West Portal\",\"Western Addition\",\"Westwood Highlands\",\"Westwood Park\",\"Yerba Buena\"]],\"lat\":[{\"__ndarray__\":\"LV+X4T/lQkB1AwXeyeNCQBmto6oJ3kJAvqQxWkfdQkA2cXK/Q91CQDQMHxFT4kJAVvFG5pHjQkCVYHE4899CQPjfSnZs4EJAcQM+P4zkQkDoMF9egOVCQD/G3LWE3EJANnFyv0PdQkCMZ9DQP+VCQMPYQpCD4kJA8WjjiLXgQkC+pDFaR91CQIxn0NA/5UJAjGfQ0D/lQkAMjpJX5+BCQDZxcr9D3UJAe5+qQgPhQkDLoUW28+FCQMuhRbbz4UJA4nX9gt3cQkBIE+8AT9xCQHiXi/hO3EJAxvmbUIjgQkCVYHE4899CQAd7E0Ny4kJAlWBxOPPfQkBxAz4/jORCQIOLFTWY5kJAXW3F/rLjQkDoMF9egOVCQIP6ljld5kJAY7SOqibcQkD430p2bOBCQOAtkKD43UJAf59x4UDkQkCO6QlLPOBCQDZxcr9D3UJA6DBfXoDlQkD430p2bOBCQApoImx45kJACmgibHjmQkBjtI6qJtxCQD/G3LWE3EJAnDOitDfgQkBmg0wycuJCQJVgcTjz30JA6DBfXoDlQkC+h0uOO91CQJVgcTjz30JAL26jAbzhQkAZraOqCd5CQHb9gt2w3UJAcQM+P4zkQkDoMF9egOVCQBmto6oJ3kJAf59x4UDkQkCMZ9DQP+VCQOAtkKD43UJACmgibHjmQkDIW65+bOBCQIxn0NA/5UJA1XPS+8bjQkC+pDFaR91CQLtE9dbA3kJA6DBfXoDlQkCDL0ymCt5CQOAtkKD43UJA6DBfXoDlQkA=\",\"dtype\":\"float64\",\"order\":\"little\",\"shape\":[73]}],\"lon\":[{\"__ndarray__\":\"L26jAbyZXsA5mE2AYZxewPfuj/eqmV7A2dMOf02aXsCKH2PuWpxewLWJk/sdnF7AQspPqn2cXsB9VwT/W59ewC2VtyOcnF7Ad76fGi+dXsAge73745tewEPFOH8TnF7Aih9j7lqcXsAvbqMBvJlewOmf4GJFm17AAyFZwAScXsDZ0w5/TZpewC9uowG8mV7AL26jAbyZXsAkr84xIJ1ewIofY+5anF7AJyzxgLKdXsBPl8XE5ptewE+XxcTmm17ApFNXPsuXXsBmu0IfLJ9ewDY3picsn17AzOmymNiaXsB9VwT/W59ewEjdzr7ynl7AWoEhq1ufXsB3vp8aL51ewIjvxKwXnV7APz+MEB6dXsAge73745tewBU1mIbhnV7Aj+TyH9KdXsAtlbcjnJxewGmR7Xw/nV7AHcnlP6SZXsC6ZvLNNptewIofY+5anF7AIHu9++ObXsAtlbcjnJxewKuy74rgmV7Aq7LviuCZXsCP5PIf0p1ewEPFOH8TnF7ABoGVQ4ucXsDp1JXP8p5ewH1XBP9bn17AIHu9++ObXsDHM2jon55ewH1XBP9bn17A7MA5I0qdXsD37o/3qplewDehEAGHmF7Ad76fGi+dXsAge73745tewPfuj/eqmV7AHcnlP6SZXsAvbqMBvJlewGmR7Xw/nV7Aq7LviuCZXsBF14UfnJxewC9uowG8mV7AAkht4uSaXsDZ0w5/TZpewC9RvTWwnV7AIHu9++ObXsD/Qo8YPZ1ewGmR7Xw/nV7AVFxV9l2ZXsA=\",\"dtype\":\"float64\",\"order\":\"little\",\"shape\":[73]}],\"marker.color\":[{\"__ndarray__\":\"SZIkSZICpkCrqqqqqq+nQM3MzMzMHKJAAAAAAAA2rUCrqqqqqhCoQKuqqqqqFaVASZIkSZICpkBJkiRJkgKmQAAAAAAAlaFAAAAAAABQo0BJkiRJkgKmQKuqqqqqFaVAAAAAAACAn0BJkiRJkgKmQAAAAACAuKVASZIkSZICpkCrqqqqqq+nQEmSJEmSAqZAAAAAAABQo0AAAAAAANabQAAAAAAAp6ZAzczMzMxSpEBJkiRJkgKmQEmSJEmSAqZAAAAAAAByo0AAAAAAAJqjQAAAAAAAIKdASZIkSZICpkAAAAAAADCpQEmSJEmSAqZASZIkSZICpkBJkiRJkgKmQFVVVVVV9qNAVVVVVVX2o0BJkiRJkgKmQEmSJEmSAqZAAAAAAACsqkAAAAAAAK+kQAAAAACA1qBAVVVVVVXPpEBVVVVVVfajQM3MzMzMyqhASZIkSZICpkBJkiRJkgKmQJqZmZmZXadAzczMzMwEpkAAAAAAAASjQAAAAACAZ6dASZIkSZICpkBJkiRJkgKmQEmSJEmSAqZASZIkSZICpkBJkiRJkgKmQFVVVVVV9qNASZIkSZICpkDNzMzMzByiQEmSJEmSAqZASZIkSZICpkBJkiRJkgKmQAAAAAAAkKtAAAAAAABmoEBJkiRJkgKmQAAAAAAAp6ZASZIkSZICpkBJkiRJkgKmQFVVVVVV9qNASZIkSZICpkAAAAAAAJKsQAAAAAAAp6NAVVVVVVX2o0AAAAAAAJWhQAAAAAAA7q5AVVVVVVX2o0A=\",\"dtype\":\"float64\",\"order\":\"little\",\"shape\":[73]}],\"marker.size\":[{\"__ndarray__\":\"cJyd1VTgdkAk1Xd7HVZ3QMu7p//VkmlA/m3ou1d2gkCwicLO+AWCQOHeULPjSnxAkyM5JcKmeEDxRHrAAXt6QGAgnA3rc35AdiCNAlBcgkANV25bts+EQC2aqyMR8HJADjYuKt4ve0BAExo283Z4QAT0IiSWaX9Azb8HR/0RhECMIKw8QUx4QEysfO/MdXhARl0VIGF9fEDnKA0RdB10QMn/9wKcfoNAa+R3ASb7g0BCjahYtxh8QECb/9zsPnZABT/1V/9TZUCYt5qCUv52QPmqSlDEDHhAfmgaicfaeECrA3m3FTuAQN85W0+CqXdAyXixJK7aeUCo3p7PEouAQBsbzgZFn3lA1YI2J6jjfUADLzpc59mAQOt1/4D+PYJAfSK5L8KmiEDjM3wxFTSBQFx/3pp8XohAcr9Bp4mxgUC9Hcljpi56QAabwse6W4BAhQqU+EOjfEAzwd8Vi/OAQA1GhppZunlANYyg6lAkf0A0VzbjjqF0QGONxdbeS25ATpTGpG5QfkAuXEiRaZ59QGJw/yeBo3hAFpsVUHKMhUAyVprHuVt3QBQ4ODjDAnVAYJzjcuzFg0CTVGKj0nF0QJrMCuEbsIRAy835O80ahUBvvf+g3QeDQNMptI5cSWVAya3y7v5QhECG4cLhK9KBQP9hf/GLgoBAvQqFeA0khUCLIC7GYFZ9QCUQFDHyP4xAR1RQI2dCeUCgCCJ5dddyQMr0d9XQJ39AXWt0xv44c0BA3+aooa2AQGzQRFqzeIVAg478xK0FgkA=\",\"dtype\":\"float64\",\"order\":\"little\",\"shape\":[73]}]},\"selected\":{\"id\":\"26571\"},\"selection_policy\":{\"id\":\"26570\"}},\"id\":\"25897\",\"type\":\"ColumnDataSource\"},{\"attributes\":{\"text\":\"Average Gross Rent by Year\",\"text_color\":\"black\",\"text_font_size\":\"12pt\"},\"id\":\"26077\",\"type\":\"Title\"},{\"attributes\":{\"source\":{\"id\":\"26106\"}},\"id\":\"26113\",\"type\":\"CDSView\"},{\"attributes\":{\"children\":[{\"id\":\"25913\"}],\"margin\":[0,0,0,0],\"name\":\"Row24150\"},\"id\":\"25911\",\"type\":\"Row\"},{\"attributes\":{\"fill_alpha\":{\"value\":0.2},\"fill_color\":{\"field\":\"Variable\",\"transform\":{\"id\":\"25846\"}},\"line_alpha\":{\"value\":0.2},\"top\":{\"field\":\"value\"},\"width\":{\"value\":0.8},\"x\":{\"field\":\"xoffsets\"}},\"id\":\"25852\",\"type\":\"VBar\"},{\"attributes\":{\"axis\":{\"id\":\"26089\"},\"dimension\":1,\"grid_line_color\":null,\"ticker\":null},\"id\":\"26092\",\"type\":\"Grid\"},{\"attributes\":{\"axis\":{\"id\":\"26085\"},\"grid_line_color\":null,\"ticker\":null},\"id\":\"26088\",\"type\":\"Grid\"},{\"attributes\":{\"line_color\":\"#2F4F4F\",\"line_width\":2,\"x\":{\"field\":\"year\"},\"y\":{\"field\":\"gross_rent\"}},\"id\":\"26114\",\"type\":\"Line\"},{\"attributes\":{\"axis\":{\"id\":\"25826\"},\"grid_line_color\":null,\"ticker\":null},\"id\":\"25828\",\"type\":\"Grid\"},{\"attributes\":{\"child\":{\"id\":\"25915\"},\"name\":\"Row24238\",\"title\":\"Most Expensive Neighborhoods\"},\"id\":\"26068\",\"type\":\"Panel\"},{\"attributes\":{\"text\":\"The Top 10 Most Expensive Neighborhoods\",\"text_color\":\"black\",\"text_font_size\":\"12pt\"},\"id\":\"25923\",\"type\":\"Title\"},{\"attributes\":{\"axis\":{\"id\":\"26160\"},\"dimension\":1,\"grid_line_color\":null,\"ticker\":null},\"id\":\"26163\",\"type\":\"Grid\"},{\"attributes\":{},\"id\":\"25974\",\"type\":\"UnionRenderers\"},{\"attributes\":{\"below\":[{\"id\":\"26085\"}],\"center\":[{\"id\":\"26088\"},{\"id\":\"26092\"}],\"height\":300,\"left\":[{\"id\":\"26089\"}],\"margin\":[5,5,5,5],\"min_border_bottom\":10,\"min_border_left\":10,\"min_border_right\":10,\"min_border_top\":10,\"renderers\":[{\"id\":\"26112\"}],\"sizing_mode\":\"fixed\",\"title\":{\"id\":\"26077\"},\"toolbar\":{\"id\":\"26099\"},\"width\":700,\"x_range\":{\"id\":\"26073\"},\"x_scale\":{\"id\":\"26081\"},\"y_range\":{\"id\":\"26074\"},\"y_scale\":{\"id\":\"26083\"}},\"id\":\"26076\",\"subtype\":\"Figure\",\"type\":\"Plot\"},{\"attributes\":{},\"id\":\"25822\",\"type\":\"CategoricalScale\"},{\"attributes\":{},\"id\":\"26032\",\"type\":\"CategoricalTickFormatter\"},{\"attributes\":{\"line_color\":\"#2F4F4F\",\"line_width\":2,\"x\":{\"field\":\"year\"},\"y\":{\"field\":\"gross_rent\"}},\"id\":\"26109\",\"type\":\"Line\"},{\"attributes\":{},\"id\":\"26157\",\"type\":\"BasicTicker\"},{\"attributes\":{\"axis\":{\"id\":\"26002\"},\"grid_line_color\":null,\"ticker\":null},\"id\":\"26004\",\"type\":\"Grid\"},{\"attributes\":{\"children\":[{\"id\":\"26066\"}],\"css_classes\":[\"panel-widget-box\"],\"margin\":[5,5,5,5],\"name\":\"WidgetBox24267\"},\"id\":\"26065\",\"type\":\"Column\"},{\"attributes\":{\"text\":\"Cost to purchase versus rental income\",\"text_color\":\"black\",\"text_font_size\":\"12pt\"},\"id\":\"25818\",\"type\":\"Title\"},{\"attributes\":{},\"id\":\"26107\",\"type\":\"Selection\"},{\"attributes\":{\"margin\":[0,0,0,0],\"name\":\"Column22475\"},\"id\":\"25902\",\"type\":\"Column\"},{\"attributes\":{\"fill_alpha\":{\"value\":0.1},\"fill_color\":{\"value\":\"#2F4F4F\"},\"line_alpha\":{\"value\":0.1},\"top\":{\"field\":\"sale_price_sqr_foot\"},\"width\":{\"value\":0.5},\"x\":{\"field\":\"neighborhood\"}},\"id\":\"25955\",\"type\":\"VBar\"},{\"attributes\":{},\"id\":\"25830\",\"type\":\"BasicTicker\"},{\"attributes\":{\"children\":[{\"id\":\"25895\"},{\"id\":\"25896\"}],\"margin\":[0,0,0,0],\"name\":\"Column24147\"},\"id\":\"25894\",\"type\":\"Column\"},{\"attributes\":{\"axis_label\":\"Monthly Rent\",\"formatter\":{\"id\":\"26120\"},\"major_label_policy\":{\"id\":\"26119\"},\"ticker\":{\"id\":\"26090\"}},\"id\":\"26089\",\"type\":\"LinearAxis\"},{\"attributes\":{\"fill_color\":{\"value\":\"#2F4F4F\"},\"top\":{\"field\":\"sale_price_sqr_foot\"},\"width\":{\"value\":0.5},\"x\":{\"field\":\"neighborhood\"}},\"id\":\"25954\",\"type\":\"VBar\"},{\"attributes\":{},\"id\":\"25998\",\"type\":\"CategoricalScale\"},{\"attributes\":{\"bottom_units\":\"screen\",\"fill_alpha\":0.5,\"fill_color\":\"lightgrey\",\"left_units\":\"screen\",\"level\":\"overlay\",\"line_alpha\":1.0,\"line_color\":\"black\",\"line_dash\":[4,4],\"line_width\":2,\"right_units\":\"screen\",\"syncable\":false,\"top_units\":\"screen\"},\"id\":\"25838\",\"type\":\"BoxAnnotation\"},{\"attributes\":{\"end\":4810.690068306854,\"reset_end\":4810.690068306854,\"reset_start\":0.0,\"tags\":[[[\"value\",\"value\",null]]]},\"id\":\"25815\",\"type\":\"Range1d\"},{\"attributes\":{\"axis_label\":\"Years\",\"formatter\":{\"id\":\"26117\"},\"major_label_policy\":{\"id\":\"26116\"},\"ticker\":{\"id\":\"26086\"}},\"id\":\"26085\",\"type\":\"LinearAxis\"},{\"attributes\":{},\"id\":\"25939\",\"type\":\"PanTool\"},{\"attributes\":{},\"id\":\"25751\",\"type\":\"CategoricalScale\"},{\"attributes\":{\"data\":{\"sale_price_sqr_foot\":{\"__ndarray__\":\"tQKjeIIVd0Do7CdydF51QGdijk899nhAaBKk2Jo5fkDGKCTbN2KBQPETFqRSxINAUB33UCbNhUA=\",\"dtype\":\"float64\",\"order\":\"little\",\"shape\":[7]},\"year\":[2010,2011,2012,2013,2014,2015,2016]},\"selected\":{\"id\":\"26178\"},\"selection_policy\":{\"id\":\"26200\"}},\"id\":\"26177\",\"type\":\"ColumnDataSource\"},{\"attributes\":{\"data_source\":{\"id\":\"26106\"},\"glyph\":{\"id\":\"26109\"},\"hover_glyph\":null,\"muted_glyph\":{\"id\":\"26111\"},\"nonselection_glyph\":{\"id\":\"26110\"},\"selection_glyph\":{\"id\":\"26114\"},\"view\":{\"id\":\"26113\"}},\"id\":\"26112\",\"type\":\"GlyphRenderer\"},{\"attributes\":{},\"id\":\"25942\",\"type\":\"ResetTool\"},{\"attributes\":{\"client_comm_id\":\"43c386c35be84a9e910a8bb38383edf9\",\"comm_id\":\"b6dd74f6c97d43e5aa697ce871e04f74\",\"plot_id\":\"25736\"},\"id\":\"27389\",\"type\":\"panel.models.comm_manager.CommManager\"},{\"attributes\":{\"below\":[{\"id\":\"26156\"}],\"center\":[{\"id\":\"26159\"},{\"id\":\"26163\"}],\"height\":300,\"left\":[{\"id\":\"26160\"}],\"margin\":[5,5,5,5],\"min_border_bottom\":10,\"min_border_left\":10,\"min_border_right\":10,\"min_border_top\":10,\"renderers\":[{\"id\":\"26183\"}],\"sizing_mode\":\"fixed\",\"title\":{\"id\":\"26148\"},\"toolbar\":{\"id\":\"26170\"},\"width\":700,\"x_range\":{\"id\":\"26073\"},\"x_scale\":{\"id\":\"26152\"},\"y_range\":{\"id\":\"25920\"},\"y_scale\":{\"id\":\"26154\"}},\"id\":\"26147\",\"subtype\":\"Figure\",\"type\":\"Plot\"},{\"attributes\":{},\"id\":\"25938\",\"type\":\"SaveTool\"},{\"attributes\":{\"margin\":[5,5,5,5],\"name\":\"VSpacer24272\",\"sizing_mode\":\"stretch_height\"},\"id\":\"26067\",\"type\":\"Spacer\"},{\"attributes\":{\"data\":{\"neighborhood\":[\"Union Square District\",\"Merced Heights\",\"Miraloma Park\",\"Pacific Heights\",\"Westwood Park\",\"Telegraph Hill\",\"Presidio Heights\",\"Cow Hollow\",\"Potrero Hill\",\"South Beach\"],\"sale_price_sqr_foot\":{\"__ndarray__\":\"JRAUMfI/jEB9IrkvwqaIQFx/3pp8XohAFpsVUHKMhUBs0ERas3iFQL0KhXgNJIVAy835O80ahUANV25bts+EQJrMCuEbsIRAya3y7v5QhEA=\",\"dtype\":\"float64\",\"order\":\"little\",\"shape\":[10]}},\"selected\":{\"id\":\"25952\"},\"selection_policy\":{\"id\":\"25974\"}},\"id\":\"25951\",\"type\":\"ColumnDataSource\"},{\"attributes\":{},\"id\":\"26200\",\"type\":\"UnionRenderers\"},{\"attributes\":{\"data_source\":{\"id\":\"26177\"},\"glyph\":{\"id\":\"26180\"},\"hover_glyph\":null,\"muted_glyph\":{\"id\":\"26182\"},\"nonselection_glyph\":{\"id\":\"26181\"},\"selection_glyph\":{\"id\":\"26185\"},\"view\":{\"id\":\"26184\"}},\"id\":\"26183\",\"type\":\"GlyphRenderer\"},{\"attributes\":{\"axis\":{\"id\":\"25829\"},\"dimension\":1,\"grid_line_color\":null,\"ticker\":null},\"id\":\"25832\",\"type\":\"Grid\"},{\"attributes\":{\"bottom\":{\"value\":0},\"fill_alpha\":{\"value\":1.0},\"fill_color\":{\"field\":\"Variable\",\"transform\":{\"id\":\"26022\"}},\"hatch_alpha\":{\"value\":1.0},\"hatch_color\":{\"value\":\"black\"},\"hatch_scale\":{\"value\":12.0},\"hatch_weight\":{\"value\":1.0},\"line_alpha\":{\"value\":1.0},\"line_cap\":{\"value\":\"butt\"},\"line_color\":{\"value\":\"black\"},\"line_dash\":{\"value\":[]},\"line_dash_offset\":{\"value\":0},\"line_join\":{\"value\":\"bevel\"},\"line_width\":{\"value\":1},\"top\":{\"field\":\"value\"},\"width\":{\"value\":0.8},\"x\":{\"field\":\"xoffsets\"}},\"id\":\"26031\",\"type\":\"VBar\"},{\"attributes\":{\"below\":[{\"id\":\"25931\"}],\"center\":[{\"id\":\"25933\"},{\"id\":\"25937\"}],\"height\":300,\"left\":[{\"id\":\"25934\"}],\"margin\":[5,5,5,5],\"min_border_bottom\":10,\"min_border_left\":10,\"min_border_right\":10,\"min_border_top\":10,\"renderers\":[{\"id\":\"25957\"}],\"sizing_mode\":\"fixed\",\"title\":{\"id\":\"25923\"},\"toolbar\":{\"id\":\"25944\"},\"width\":700,\"x_range\":{\"id\":\"25919\"},\"x_scale\":{\"id\":\"25927\"},\"y_range\":{\"id\":\"25920\"},\"y_scale\":{\"id\":\"25929\"}},\"id\":\"25922\",\"subtype\":\"Figure\",\"type\":\"Plot\"},{\"attributes\":{\"end\":929.3801355198136,\"reset_end\":929.3801355198136,\"reset_start\":0.0,\"tags\":[[[\"sale_price_sqr_foot\",\"sale_price_sqr_foot\",null]]]},\"id\":\"25920\",\"type\":\"Range1d\"},{\"attributes\":{\"css_classes\":[\"markdown\"],\"margin\":[5,5,5,5],\"name\":\"Markdown24144\",\"text\":\"&lt;h2&gt;Neighborhood Map&lt;/h2&gt;\"},\"id\":\"25908\",\"type\":\"panel.models.markup.HTML\"},{\"attributes\":{\"overlay\":{\"id\":\"25943\"}},\"id\":\"25941\",\"type\":\"BoxZoomTool\"},{\"attributes\":{},\"id\":\"25960\",\"type\":\"CategoricalTickFormatter\"},{\"attributes\":{\"axis_label\":\"Avg. Sale Price per Sqr Ft\",\"formatter\":{\"id\":\"25965\"},\"major_label_policy\":{\"id\":\"25964\"},\"ticker\":{\"id\":\"25935\"}},\"id\":\"25934\",\"type\":\"LinearAxis\"},{\"attributes\":{},\"id\":\"25824\",\"type\":\"LinearScale\"},{\"attributes\":{\"margin\":[0,0,0,0],\"name\":\"Column24237\"},\"id\":\"25741\",\"type\":\"Column\"},{\"attributes\":{\"children\":[{\"id\":\"25738\"},{\"id\":\"25739\"},{\"id\":\"25892\"},{\"id\":\"25899\"}],\"margin\":[0,0,0,0],\"name\":\"Column24278\"},\"id\":\"25737\",\"type\":\"Column\"},{\"attributes\":{\"axis_label\":\"Avg. Cost/Rental income\",\"formatter\":{\"id\":\"25861\"},\"major_label_policy\":{\"id\":\"25860\"},\"ticker\":{\"id\":\"25830\"}},\"id\":\"25829\",\"type\":\"LinearAxis\"},{\"attributes\":{},\"id\":\"25784\",\"type\":\"CategoricalTickFormatter\"},{\"attributes\":{},\"id\":\"25932\",\"type\":\"CategoricalTicker\"},{\"attributes\":{\"callback\":null,\"renderers\":[{\"id\":\"26112\"}],\"tags\":[\"hv_created\"],\"tooltips\":[[\"year\",\"@{year}\"],[\"gross_rent\",\"@{gross_rent}\"]]},\"id\":\"26075\",\"type\":\"HoverTool\"},{\"attributes\":{\"data\":[{\"hovertemplate\":\"<b>%{hovertext}</b><br><br>sale_price_sqr_foot=%{marker.size}<br>Lat=%{lat}<br>Lon=%{lon}<br>gross_rent=%{marker.color}<extra></extra>\",\"legendgroup\":\"\",\"marker\":{\"coloraxis\":\"coloraxis\",\"sizemode\":\"area\",\"sizeref\":4.017747811875842},\"mode\":\"markers\",\"name\":\"\",\"showlegend\":false,\"subplot\":\"mapbox\",\"type\":\"scattermapbox\"}],\"data_sources\":[{\"id\":\"25912\"}],\"layout\":{\"coloraxis\":{\"colorbar\":{\"title\":{\"text\":\"gross_rent\"}},\"colorscale\":[[0.0,\"#000000\"],[0.0625,\"#001f4d\"],[0.125,\"#003786\"],[0.1875,\"#0e58a8\"],[0.25,\"#217eb8\"],[0.3125,\"#30a4ca\"],[0.375,\"#54c8df\"],[0.4375,\"#9be4ef\"],[0.5,\"#e1e9d1\"],[0.5625,\"#f3d573\"],[0.625,\"#e7b000\"],[0.6875,\"#da8200\"],[0.75,\"#c65400\"],[0.8125,\"#ac2301\"],[0.875,\"#820000\"],[0.9375,\"#4c0000\"],[1.0,\"#000000\"]]},\"legend\":{\"itemsizing\":\"constant\",\"tracegroupgap\":0},\"mapbox\":{\"center\":{\"lat\":37.76019350684932,\"lon\":-122.43912380821916},\"domain\":{\"x\":[0.0,1.0],\"y\":[0.0,1.0]},\"style\":\"carto-positron\",\"zoom\":10},\"margin\":{\"t\":60},\"template\":{\"data\":{\"bar\":[{\"error_x\":{\"color\":\"#2a3f5f\"},\"error_y\":{\"color\":\"#2a3f5f\"},\"marker\":{\"line\":{\"color\":\"#E5ECF6\",\"width\":0.5},\"pattern\":{\"fillmode\":\"overlay\",\"size\":10,\"solidity\":0.2}},\"type\":\"bar\"}],\"barpolar\":[{\"marker\":{\"line\":{\"color\":\"#E5ECF6\",\"width\":0.5},\"pattern\":{\"fillmode\":\"overlay\",\"size\":10,\"solidity\":0.2}},\"type\":\"barpolar\"}],\"carpet\":[{\"aaxis\":{\"endlinecolor\":\"#2a3f5f\",\"gridcolor\":\"white\",\"linecolor\":\"white\",\"minorgridcolor\":\"white\",\"startlinecolor\":\"#2a3f5f\"},\"baxis\":{\"endlinecolor\":\"#2a3f5f\",\"gridcolor\":\"white\",\"linecolor\":\"white\",\"minorgridcolor\":\"white\",\"startlinecolor\":\"#2a3f5f\"},\"type\":\"carpet\"}],\"choropleth\":[{\"colorbar\":{\"outlinewidth\":0,\"ticks\":\"\"},\"type\":\"choropleth\"}],\"contour\":[{\"colorbar\":{\"outlinewidth\":0,\"ticks\":\"\"},\"colorscale\":[[0.0,\"#0d0887\"],[0.1111111111111111,\"#46039f\"],[0.2222222222222222,\"#7201a8\"],[0.3333333333333333,\"#9c179e\"],[0.4444444444444444,\"#bd3786\"],[0.5555555555555556,\"#d8576b\"],[0.6666666666666666,\"#ed7953\"],[0.7777777777777778,\"#fb9f3a\"],[0.8888888888888888,\"#fdca26\"],[1.0,\"#f0f921\"]],\"type\":\"contour\"}],\"contourcarpet\":[{\"colorbar\":{\"outlinewidth\":0,\"ticks\":\"\"},\"type\":\"contourcarpet\"}],\"heatmap\":[{\"colorbar\":{\"outlinewidth\":0,\"ticks\":\"\"},\"colorscale\":[[0.0,\"#0d0887\"],[0.1111111111111111,\"#46039f\"],[0.2222222222222222,\"#7201a8\"],[0.3333333333333333,\"#9c179e\"],[0.4444444444444444,\"#bd3786\"],[0.5555555555555556,\"#d8576b\"],[0.6666666666666666,\"#ed7953\"],[0.7777777777777778,\"#fb9f3a\"],[0.8888888888888888,\"#fdca26\"],[1.0,\"#f0f921\"]],\"type\":\"heatmap\"}],\"heatmapgl\":[{\"colorbar\":{\"outlinewidth\":0,\"ticks\":\"\"},\"colorscale\":[[0.0,\"#0d0887\"],[0.1111111111111111,\"#46039f\"],[0.2222222222222222,\"#7201a8\"],[0.3333333333333333,\"#9c179e\"],[0.4444444444444444,\"#bd3786\"],[0.5555555555555556,\"#d8576b\"],[0.6666666666666666,\"#ed7953\"],[0.7777777777777778,\"#fb9f3a\"],[0.8888888888888888,\"#fdca26\"],[1.0,\"#f0f921\"]],\"type\":\"heatmapgl\"}],\"histogram\":[{\"marker\":{\"pattern\":{\"fillmode\":\"overlay\",\"size\":10,\"solidity\":0.2}},\"type\":\"histogram\"}],\"histogram2d\":[{\"colorbar\":{\"outlinewidth\":0,\"ticks\":\"\"},\"colorscale\":[[0.0,\"#0d0887\"],[0.1111111111111111,\"#46039f\"],[0.2222222222222222,\"#7201a8\"],[0.3333333333333333,\"#9c179e\"],[0.4444444444444444,\"#bd3786\"],[0.5555555555555556,\"#d8576b\"],[0.6666666666666666,\"#ed7953\"],[0.7777777777777778,\"#fb9f3a\"],[0.8888888888888888,\"#fdca26\"],[1.0,\"#f0f921\"]],\"type\":\"histogram2d\"}],\"histogram2dcontour\":[{\"colorbar\":{\"outlinewidth\":0,\"ticks\":\"\"},\"colorscale\":[[0.0,\"#0d0887\"],[0.1111111111111111,\"#46039f\"],[0.2222222222222222,\"#7201a8\"],[0.3333333333333333,\"#9c179e\"],[0.4444444444444444,\"#bd3786\"],[0.5555555555555556,\"#d8576b\"],[0.6666666666666666,\"#ed7953\"],[0.7777777777777778,\"#fb9f3a\"],[0.8888888888888888,\"#fdca26\"],[1.0,\"#f0f921\"]],\"type\":\"histogram2dcontour\"}],\"mesh3d\":[{\"colorbar\":{\"outlinewidth\":0,\"ticks\":\"\"},\"type\":\"mesh3d\"}],\"parcoords\":[{\"line\":{\"colorbar\":{\"outlinewidth\":0,\"ticks\":\"\"}},\"type\":\"parcoords\"}],\"pie\":[{\"automargin\":true,\"type\":\"pie\"}],\"scatter\":[{\"marker\":{\"colorbar\":{\"outlinewidth\":0,\"ticks\":\"\"}},\"type\":\"scatter\"}],\"scatter3d\":[{\"line\":{\"colorbar\":{\"outlinewidth\":0,\"ticks\":\"\"}},\"marker\":{\"colorbar\":{\"outlinewidth\":0,\"ticks\":\"\"}},\"type\":\"scatter3d\"}],\"scattercarpet\":[{\"marker\":{\"colorbar\":{\"outlinewidth\":0,\"ticks\":\"\"}},\"type\":\"scattercarpet\"}],\"scattergeo\":[{\"marker\":{\"colorbar\":{\"outlinewidth\":0,\"ticks\":\"\"}},\"type\":\"scattergeo\"}],\"scattergl\":[{\"marker\":{\"colorbar\":{\"outlinewidth\":0,\"ticks\":\"\"}},\"type\":\"scattergl\"}],\"scattermapbox\":[{\"marker\":{\"colorbar\":{\"outlinewidth\":0,\"ticks\":\"\"}},\"type\":\"scattermapbox\"}],\"scatterpolar\":[{\"marker\":{\"colorbar\":{\"outlinewidth\":0,\"ticks\":\"\"}},\"type\":\"scatterpolar\"}],\"scatterpolargl\":[{\"marker\":{\"colorbar\":{\"outlinewidth\":0,\"ticks\":\"\"}},\"type\":\"scatterpolargl\"}],\"scatterternary\":[{\"marker\":{\"colorbar\":{\"outlinewidth\":0,\"ticks\":\"\"}},\"type\":\"scatterternary\"}],\"surface\":[{\"colorbar\":{\"outlinewidth\":0,\"ticks\":\"\"},\"colorscale\":[[0.0,\"#0d0887\"],[0.1111111111111111,\"#46039f\"],[0.2222222222222222,\"#7201a8\"],[0.3333333333333333,\"#9c179e\"],[0.4444444444444444,\"#bd3786\"],[0.5555555555555556,\"#d8576b\"],[0.6666666666666666,\"#ed7953\"],[0.7777777777777778,\"#fb9f3a\"],[0.8888888888888888,\"#fdca26\"],[1.0,\"#f0f921\"]],\"type\":\"surface\"}],\"table\":[{\"cells\":{\"fill\":{\"color\":\"#EBF0F8\"},\"line\":{\"color\":\"white\"}},\"header\":{\"fill\":{\"color\":\"#C8D4E3\"},\"line\":{\"color\":\"white\"}},\"type\":\"table\"}]},\"layout\":{\"annotationdefaults\":{\"arrowcolor\":\"#2a3f5f\",\"arrowhead\":0,\"arrowwidth\":1},\"autotypenumbers\":\"strict\",\"coloraxis\":{\"colorbar\":{\"outlinewidth\":0,\"ticks\":\"\"}},\"colorscale\":{\"diverging\":[[0,\"#8e0152\"],[0.1,\"#c51b7d\"],[0.2,\"#de77ae\"],[0.3,\"#f1b6da\"],[0.4,\"#fde0ef\"],[0.5,\"#f7f7f7\"],[0.6,\"#e6f5d0\"],[0.7,\"#b8e186\"],[0.8,\"#7fbc41\"],[0.9,\"#4d9221\"],[1,\"#276419\"]],\"sequential\":[[0.0,\"#0d0887\"],[0.1111111111111111,\"#46039f\"],[0.2222222222222222,\"#7201a8\"],[0.3333333333333333,\"#9c179e\"],[0.4444444444444444,\"#bd3786\"],[0.5555555555555556,\"#d8576b\"],[0.6666666666666666,\"#ed7953\"],[0.7777777777777778,\"#fb9f3a\"],[0.8888888888888888,\"#fdca26\"],[1.0,\"#f0f921\"]],\"sequentialminus\":[[0.0,\"#0d0887\"],[0.1111111111111111,\"#46039f\"],[0.2222222222222222,\"#7201a8\"],[0.3333333333333333,\"#9c179e\"],[0.4444444444444444,\"#bd3786\"],[0.5555555555555556,\"#d8576b\"],[0.6666666666666666,\"#ed7953\"],[0.7777777777777778,\"#fb9f3a\"],[0.8888888888888888,\"#fdca26\"],[1.0,\"#f0f921\"]]},\"colorway\":[\"#636efa\",\"#EF553B\",\"#00cc96\",\"#ab63fa\",\"#FFA15A\",\"#19d3f3\",\"#FF6692\",\"#B6E880\",\"#FF97FF\",\"#FECB52\"],\"font\":{\"color\":\"#2a3f5f\"},\"geo\":{\"bgcolor\":\"white\",\"lakecolor\":\"white\",\"landcolor\":\"#E5ECF6\",\"showlakes\":true,\"showland\":true,\"subunitcolor\":\"white\"},\"hoverlabel\":{\"align\":\"left\"},\"hovermode\":\"closest\",\"mapbox\":{\"style\":\"light\"},\"paper_bgcolor\":\"white\",\"plot_bgcolor\":\"#E5ECF6\",\"polar\":{\"angularaxis\":{\"gridcolor\":\"white\",\"linecolor\":\"white\",\"ticks\":\"\"},\"bgcolor\":\"#E5ECF6\",\"radialaxis\":{\"gridcolor\":\"white\",\"linecolor\":\"white\",\"ticks\":\"\"}},\"scene\":{\"xaxis\":{\"backgroundcolor\":\"#E5ECF6\",\"gridcolor\":\"white\",\"gridwidth\":2,\"linecolor\":\"white\",\"showbackground\":true,\"ticks\":\"\",\"zerolinecolor\":\"white\"},\"yaxis\":{\"backgroundcolor\":\"#E5ECF6\",\"gridcolor\":\"white\",\"gridwidth\":2,\"linecolor\":\"white\",\"showbackground\":true,\"ticks\":\"\",\"zerolinecolor\":\"white\"},\"zaxis\":{\"backgroundcolor\":\"#E5ECF6\",\"gridcolor\":\"white\",\"gridwidth\":2,\"linecolor\":\"white\",\"showbackground\":true,\"ticks\":\"\",\"zerolinecolor\":\"white\"}},\"shapedefaults\":{\"line\":{\"color\":\"#2a3f5f\"}},\"ternary\":{\"aaxis\":{\"gridcolor\":\"white\",\"linecolor\":\"white\",\"ticks\":\"\"},\"baxis\":{\"gridcolor\":\"white\",\"linecolor\":\"white\",\"ticks\":\"\"},\"bgcolor\":\"#E5ECF6\",\"caxis\":{\"gridcolor\":\"white\",\"linecolor\":\"white\",\"ticks\":\"\"}},\"title\":{\"x\":0.05},\"xaxis\":{\"automargin\":true,\"gridcolor\":\"white\",\"linecolor\":\"white\",\"ticks\":\"\",\"title\":{\"standoff\":15},\"zerolinecolor\":\"white\",\"zerolinewidth\":2},\"yaxis\":{\"automargin\":true,\"gridcolor\":\"white\",\"linecolor\":\"white\",\"ticks\":\"\",\"title\":{\"standoff\":15},\"zerolinecolor\":\"white\",\"zerolinewidth\":2}}}},\"margin\":[5,5,5,5],\"name\":\"interactive24146\",\"viewport_update_throttle\":200,\"visible\":false},\"id\":\"25913\",\"type\":\"panel.models.plotly.PlotlyPlot\"},{\"attributes\":{},\"id\":\"26152\",\"type\":\"LinearScale\"},{\"attributes\":{},\"id\":\"26086\",\"type\":\"BasicTicker\"},{\"attributes\":{\"children\":[{\"id\":\"25741\"},{\"id\":\"25742\"}],\"margin\":[0,0,0,0],\"name\":\"Column24154\"},\"id\":\"25740\",\"type\":\"Column\"},{\"attributes\":{\"children\":[{\"id\":\"25910\"},{\"id\":\"25911\"}],\"margin\":[0,0,0,0],\"name\":\"Column24147\"},\"id\":\"25909\",\"type\":\"Column\"},{\"attributes\":{\"data_source\":{\"id\":\"25847\"},\"glyph\":{\"id\":\"25850\"},\"hover_glyph\":null,\"muted_glyph\":{\"id\":\"25852\"},\"nonselection_glyph\":{\"id\":\"25851\"},\"selection_glyph\":{\"id\":\"25855\"},\"view\":{\"id\":\"25854\"}},\"id\":\"25853\",\"type\":\"GlyphRenderer\"},{\"attributes\":{\"callback\":null,\"renderers\":[{\"id\":\"25957\"}],\"tags\":[\"hv_created\"],\"tooltips\":[[\"neighborhood\",\"@{neighborhood}\"],[\"sale_price_sqr_foot\",\"@{sale_price_sqr_foot}\"]]},\"id\":\"25921\",\"type\":\"HoverTool\"},{\"attributes\":{\"text\":\"Average Price per SqFt by Year\",\"text_color\":\"black\",\"text_font_size\":\"12pt\"},\"id\":\"26148\",\"type\":\"Title\"},{\"attributes\":{\"line_alpha\":0.1,\"line_color\":\"#2F4F4F\",\"line_width\":2,\"x\":{\"field\":\"year\"},\"y\":{\"field\":\"gross_rent\"}},\"id\":\"26110\",\"type\":\"Line\"},{\"attributes\":{\"fill_alpha\":{\"value\":0.2},\"fill_color\":{\"field\":\"Variable\",\"transform\":{\"id\":\"26022\"}},\"line_alpha\":{\"value\":0.2},\"top\":{\"field\":\"value\"},\"width\":{\"value\":0.8},\"x\":{\"field\":\"xoffsets\"}},\"id\":\"26028\",\"type\":\"VBar\"},{\"attributes\":{\"margin\":[20,20,20,20],\"min_width\":250,\"options\":[\"Alamo Square\",\"Anza Vista\",\"Bayview\",\"Buena Vista Park\",\"Central Richmond\",\"Central Sunset\",\"Corona Heights\",\"Cow Hollow\",\"Croker Amazon\",\"Diamond Heights\",\"Downtown \",\"Eureka Valley/Dolores Heights\",\"Excelsior\",\"Financial District North\",\"Financial District South\",\"Forest Knolls\",\"Glen Park\",\"Golden Gate Heights\",\"Haight Ashbury\",\"Hayes Valley\",\"Hunters Point\",\"Ingleside \",\"Inner Mission\",\"Inner Parkside\",\"Inner Richmond\",\"Inner Sunset\",\"Jordan Park/Laurel Heights\",\"Lake --The Presidio\",\"Lone Mountain\",\"Lower Pacific Heights\",\"Marina\",\"Miraloma Park\",\"Mission Bay\",\"Mission Dolores\",\"Mission Terrace\",\"Nob Hill\",\"Noe Valley\",\"Oceanview\",\"Outer Parkside\",\"Outer Richmond \",\"Outer Sunset\",\"Pacific Heights\",\"Park North\",\"Parkside\",\"Parnassus/Ashbury Heights\",\"Portola\",\"Potrero Hill\",\"Presidio Heights\",\"Russian Hill\",\"South Beach\",\"South of Market\",\"Sunnyside\",\"Telegraph Hill\",\"Twin Peaks\",\"Union Square District\",\"Van Ness/ Civic Center\",\"West Portal\",\"Western Addition\",\"Yerba Buena\",\"Bernal Heights \",\"Clarendon Heights\",\"Duboce Triangle\",\"Ingleside Heights\",\"North Beach\",\"North Waterfront\",\"Outer Mission\",\"Westwood Highlands\",\"Merced Heights\",\"Midtown Terrace\",\"Visitacion Valley\",\"Silver Terrace\",\"Westwood Park\",\"Bayview Heights\"],\"title\":\"neighborhood\",\"value\":\"Alamo Square\",\"width\":250},\"id\":\"25890\",\"type\":\"Select\"},{\"attributes\":{\"active_multi\":null,\"tools\":[{\"id\":\"26075\"},{\"id\":\"26093\"},{\"id\":\"26094\"},{\"id\":\"26095\"},{\"id\":\"26096\"},{\"id\":\"26097\"}]},\"id\":\"26099\",\"type\":\"Toolbar\"},{\"attributes\":{},\"id\":\"26252\",\"type\":\"Selection\"},{\"attributes\":{},\"id\":\"26024\",\"type\":\"Selection\"},{\"attributes\":{\"children\":[{\"id\":\"25811\"},{\"id\":\"25812\"}],\"margin\":[0,0,0,0],\"name\":\"Column24240\"},\"id\":\"25810\",\"type\":\"Column\"},{\"attributes\":{},\"id\":\"26034\",\"type\":\"AllLabels\"},{\"attributes\":{\"css_classes\":[\"markdown\"],\"margin\":[5,5,5,5],\"name\":\"Markdown24144\",\"text\":\"&lt;h2&gt;Neighborhood Map&lt;/h2&gt;\"},\"id\":\"25893\",\"type\":\"panel.models.markup.HTML\"},{\"attributes\":{\"axis\":{\"id\":\"26230\"},\"grid_line_color\":null,\"ticker\":null},\"id\":\"26233\",\"type\":\"Grid\"},{\"attributes\":{},\"id\":\"25763\",\"type\":\"PanTool\"},{\"attributes\":{},\"id\":\"25786\",\"type\":\"AllLabels\"},{\"attributes\":{},\"id\":\"26231\",\"type\":\"BasicTicker\"},{\"attributes\":{\"fill_alpha\":{\"value\":0.2},\"fill_color\":{\"value\":\"#2F4F4F\"},\"line_alpha\":{\"value\":0.2},\"top\":{\"field\":\"sale_price_sqr_foot\"},\"width\":{\"value\":0.5},\"x\":{\"field\":\"neighborhood\"}},\"id\":\"25780\",\"type\":\"VBar\"},{\"attributes\":{\"bottom_units\":\"screen\",\"fill_alpha\":0.5,\"fill_color\":\"lightgrey\",\"left_units\":\"screen\",\"level\":\"overlay\",\"line_alpha\":1.0,\"line_color\":\"black\",\"line_dash\":[4,4],\"line_width\":2,\"right_units\":\"screen\",\"syncable\":false,\"top_units\":\"screen\"},\"id\":\"26169\",\"type\":\"BoxAnnotation\"},{\"attributes\":{},\"id\":\"26228\",\"type\":\"LinearScale\"},{\"attributes\":{\"axis_label\":\"Avg. Gross Rent Year\",\"formatter\":{\"id\":\"26265\"},\"major_label_policy\":{\"id\":\"26264\"},\"ticker\":{\"id\":\"26235\"}},\"id\":\"26234\",\"type\":\"LinearAxis\"},{\"attributes\":{\"axis_label\":\"Years\",\"formatter\":{\"id\":\"26262\"},\"major_label_policy\":{\"id\":\"26261\"},\"ticker\":{\"id\":\"26231\"}},\"id\":\"26230\",\"type\":\"LinearAxis\"},{\"attributes\":{\"children\":[{\"id\":\"25917\"},{\"id\":\"25918\"}],\"margin\":[0,0,0,0],\"name\":\"Column24154\"},\"id\":\"25916\",\"type\":\"Column\"},{\"attributes\":{},\"id\":\"25962\",\"type\":\"AllLabels\"},{\"attributes\":{},\"id\":\"26235\",\"type\":\"BasicTicker\"},{\"attributes\":{\"overlay\":{\"id\":\"26169\"}},\"id\":\"26167\",\"type\":\"BoxZoomTool\"},{\"attributes\":{\"fill_color\":{\"value\":\"#2F4F4F\"},\"top\":{\"field\":\"sale_price_sqr_foot\"},\"width\":{\"value\":0.5},\"x\":{\"field\":\"neighborhood\"}},\"id\":\"25778\",\"type\":\"VBar\"},{\"attributes\":{\"axis\":{\"id\":\"26234\"},\"dimension\":1,\"grid_line_color\":null,\"ticker\":null},\"id\":\"26237\",\"type\":\"Grid\"},{\"attributes\":{},\"id\":\"26332\",\"type\":\"UnionRenderers\"},{\"attributes\":{},\"id\":\"26093\",\"type\":\"SaveTool\"},{\"attributes\":{},\"id\":\"26262\",\"type\":\"BasicTickFormatter\"},{\"attributes\":{\"margin\":[0,0,0,0],\"name\":\"Column24275\"},\"id\":\"25987\",\"type\":\"Column\"},{\"attributes\":{},\"id\":\"26166\",\"type\":\"WheelZoomTool\"},{\"attributes\":{\"margin\":[0,0,0,0],\"name\":\"Column24237\"},\"id\":\"25917\",\"type\":\"Column\"},{\"attributes\":{\"active_multi\":null,\"tools\":[{\"id\":\"26146\"},{\"id\":\"26164\"},{\"id\":\"26165\"},{\"id\":\"26166\"},{\"id\":\"26167\"},{\"id\":\"26168\"}]},\"id\":\"26170\",\"type\":\"Toolbar\"},{\"attributes\":{},\"id\":\"26010\",\"type\":\"PanTool\"},{\"attributes\":{\"overlay\":{\"id\":\"26098\"}},\"id\":\"26096\",\"type\":\"BoxZoomTool\"},{\"attributes\":{\"children\":[{\"id\":\"26070\"},{\"id\":\"26141\"}],\"margin\":[0,0,0,0],\"name\":\"Row24060\"},\"id\":\"26069\",\"type\":\"Row\"},{\"attributes\":{\"source\":{\"id\":\"26251\"}},\"id\":\"26258\",\"type\":\"CDSView\"},{\"attributes\":{},\"id\":\"26188\",\"type\":\"BasicTickFormatter\"},{\"attributes\":{},\"id\":\"25766\",\"type\":\"ResetTool\"},{\"attributes\":{\"children\":[{\"id\":\"25989\"}],\"margin\":[0,0,0,0],\"name\":\"Row24274\"},\"id\":\"25988\",\"type\":\"Row\"},{\"attributes\":{\"data_source\":{\"id\":\"26251\"},\"glyph\":{\"id\":\"26254\"},\"hover_glyph\":null,\"muted_glyph\":{\"id\":\"26256\"},\"nonselection_glyph\":{\"id\":\"26255\"},\"selection_glyph\":{\"id\":\"26259\"},\"view\":{\"id\":\"26258\"}},\"id\":\"26257\",\"type\":\"GlyphRenderer\"},{\"attributes\":{},\"id\":\"26168\",\"type\":\"ResetTool\"},{\"attributes\":{},\"id\":\"26036\",\"type\":\"AllLabels\"},{\"attributes\":{},\"id\":\"26238\",\"type\":\"SaveTool\"},{\"attributes\":{},\"id\":\"25833\",\"type\":\"SaveTool\"},{\"attributes\":{},\"id\":\"26239\",\"type\":\"PanTool\"},{\"attributes\":{},\"id\":\"26299\",\"type\":\"Selection\"},{\"attributes\":{},\"id\":\"26006\",\"type\":\"BasicTicker\"},{\"attributes\":{},\"id\":\"26242\",\"type\":\"ResetTool\"},{\"attributes\":{},\"id\":\"26240\",\"type\":\"WheelZoomTool\"},{\"attributes\":{\"data_source\":{\"id\":\"25775\"},\"glyph\":{\"id\":\"25778\"},\"hover_glyph\":null,\"muted_glyph\":{\"id\":\"25780\"},\"nonselection_glyph\":{\"id\":\"25779\"},\"selection_glyph\":{\"id\":\"25783\"},\"view\":{\"id\":\"25782\"}},\"id\":\"25781\",\"type\":\"GlyphRenderer\"},{\"attributes\":{\"data\":{\"gross_rent\":[1239,1530,2324,2971,3528,3739,4390],\"year\":[2010,2011,2012,2013,2014,2015,2016]},\"selected\":{\"id\":\"26252\"},\"selection_policy\":{\"id\":\"26321\"}},\"id\":\"26251\",\"type\":\"ColumnDataSource\"},{\"attributes\":{\"children\":[{\"id\":\"26215\"},{\"id\":\"26216\"}],\"margin\":[0,0,0,0],\"name\":\"Column23914\"},\"id\":\"26214\",\"type\":\"Column\"},{\"attributes\":{\"axis_label\":\"Neighborhood\",\"formatter\":{\"id\":\"25784\"},\"major_label_orientation\":1.5707963267948966,\"major_label_policy\":{\"id\":\"25786\"},\"ticker\":{\"id\":\"25756\"}},\"id\":\"25755\",\"type\":\"CategoricalAxis\"},{\"attributes\":{\"axis_label\":\"Avg. Cost/Rental income\",\"formatter\":{\"id\":\"26037\"},\"major_label_policy\":{\"id\":\"26036\"},\"ticker\":{\"id\":\"26006\"}},\"id\":\"26005\",\"type\":\"LinearAxis\"},{\"attributes\":{\"overlay\":{\"id\":\"26243\"}},\"id\":\"26241\",\"type\":\"BoxZoomTool\"},{\"attributes\":{\"children\":[{\"id\":\"25916\"},{\"id\":\"25986\"}],\"margin\":[0,0,0,0],\"name\":\"Row24238\"},\"id\":\"25915\",\"type\":\"Row\"},{\"attributes\":{\"toolbar\":{\"id\":\"26336\"},\"toolbar_location\":\"above\"},\"id\":\"26337\",\"type\":\"ToolbarBox\"},{\"attributes\":{\"toolbars\":[{\"id\":\"26244\"},{\"id\":\"26291\"}],\"tools\":[{\"id\":\"26220\"},{\"id\":\"26238\"},{\"id\":\"26239\"},{\"id\":\"26240\"},{\"id\":\"26241\"},{\"id\":\"26242\"},{\"id\":\"26267\"},{\"id\":\"26285\"},{\"id\":\"26286\"},{\"id\":\"26287\"},{\"id\":\"26288\"},{\"id\":\"26289\"}]},\"id\":\"26336\",\"type\":\"ProxyToolbar\"},{\"attributes\":{},\"id\":\"25762\",\"type\":\"SaveTool\"},{\"attributes\":{},\"id\":\"26009\",\"type\":\"SaveTool\"},{\"attributes\":{},\"id\":\"26165\",\"type\":\"PanTool\"},{\"attributes\":{\"style\":{\"white-space\":\"nowrap\"},\"text\":\"<span style=\\\"color:black;font-family:Arial;font-style:bold;font-weight:bold;font-size:12pt\\\">neighborhood: Alamo Square</span>\",\"width\":450},\"id\":\"26339\",\"type\":\"Div\"},{\"attributes\":{\"overlay\":{\"id\":\"26014\"}},\"id\":\"26012\",\"type\":\"BoxZoomTool\"},{\"attributes\":{},\"id\":\"26097\",\"type\":\"ResetTool\"},{\"attributes\":{\"children\":[{\"id\":\"26337\"},{\"id\":\"26335\"}]},\"id\":\"26338\",\"type\":\"Column\"},{\"attributes\":{},\"id\":\"26095\",\"type\":\"WheelZoomTool\"},{\"attributes\":{\"children\":[{\"id\":\"26339\"},{\"id\":\"26338\"}]},\"id\":\"26340\",\"type\":\"Column\"},{\"attributes\":{\"data_source\":{\"id\":\"26023\"},\"glyph\":{\"id\":\"26026\"},\"hover_glyph\":null,\"muted_glyph\":{\"id\":\"26028\"},\"nonselection_glyph\":{\"id\":\"26027\"},\"selection_glyph\":{\"id\":\"26031\"},\"view\":{\"id\":\"26030\"}},\"id\":\"26029\",\"type\":\"GlyphRenderer\"},{\"attributes\":{},\"id\":\"26013\",\"type\":\"ResetTool\"},{\"attributes\":{},\"id\":\"26011\",\"type\":\"WheelZoomTool\"},{\"attributes\":{\"data\":[{\"hovertemplate\":\"<b>%{hovertext}</b><br><br>sale_price_sqr_foot=%{marker.size}<br>Lat=%{lat}<br>Lon=%{lon}<br>gross_rent=%{marker.color}<extra></extra>\",\"legendgroup\":\"\",\"marker\":{\"coloraxis\":\"coloraxis\",\"sizemode\":\"area\",\"sizeref\":4.017747811875842},\"mode\":\"markers\",\"name\":\"\",\"showlegend\":false,\"subplot\":\"mapbox\",\"type\":\"scattermapbox\"}],\"data_sources\":[{\"id\":\"25897\"}],\"layout\":{\"coloraxis\":{\"colorbar\":{\"title\":{\"text\":\"gross_rent\"}},\"colorscale\":[[0.0,\"#000000\"],[0.0625,\"#001f4d\"],[0.125,\"#003786\"],[0.1875,\"#0e58a8\"],[0.25,\"#217eb8\"],[0.3125,\"#30a4ca\"],[0.375,\"#54c8df\"],[0.4375,\"#9be4ef\"],[0.5,\"#e1e9d1\"],[0.5625,\"#f3d573\"],[0.625,\"#e7b000\"],[0.6875,\"#da8200\"],[0.75,\"#c65400\"],[0.8125,\"#ac2301\"],[0.875,\"#820000\"],[0.9375,\"#4c0000\"],[1.0,\"#000000\"]]},\"legend\":{\"itemsizing\":\"constant\",\"tracegroupgap\":0},\"mapbox\":{\"center\":{\"lat\":37.76019350684932,\"lon\":-122.43912380821916},\"domain\":{\"x\":[0.0,1.0],\"y\":[0.0,1.0]},\"style\":\"carto-positron\",\"zoom\":10},\"margin\":{\"t\":60},\"template\":{\"data\":{\"bar\":[{\"error_x\":{\"color\":\"#2a3f5f\"},\"error_y\":{\"color\":\"#2a3f5f\"},\"marker\":{\"line\":{\"color\":\"#E5ECF6\",\"width\":0.5},\"pattern\":{\"fillmode\":\"overlay\",\"size\":10,\"solidity\":0.2}},\"type\":\"bar\"}],\"barpolar\":[{\"marker\":{\"line\":{\"color\":\"#E5ECF6\",\"width\":0.5},\"pattern\":{\"fillmode\":\"overlay\",\"size\":10,\"solidity\":0.2}},\"type\":\"barpolar\"}],\"carpet\":[{\"aaxis\":{\"endlinecolor\":\"#2a3f5f\",\"gridcolor\":\"white\",\"linecolor\":\"white\",\"minorgridcolor\":\"white\",\"startlinecolor\":\"#2a3f5f\"},\"baxis\":{\"endlinecolor\":\"#2a3f5f\",\"gridcolor\":\"white\",\"linecolor\":\"white\",\"minorgridcolor\":\"white\",\"startlinecolor\":\"#2a3f5f\"},\"type\":\"carpet\"}],\"choropleth\":[{\"colorbar\":{\"outlinewidth\":0,\"ticks\":\"\"},\"type\":\"choropleth\"}],\"contour\":[{\"colorbar\":{\"outlinewidth\":0,\"ticks\":\"\"},\"colorscale\":[[0.0,\"#0d0887\"],[0.1111111111111111,\"#46039f\"],[0.2222222222222222,\"#7201a8\"],[0.3333333333333333,\"#9c179e\"],[0.4444444444444444,\"#bd3786\"],[0.5555555555555556,\"#d8576b\"],[0.6666666666666666,\"#ed7953\"],[0.7777777777777778,\"#fb9f3a\"],[0.8888888888888888,\"#fdca26\"],[1.0,\"#f0f921\"]],\"type\":\"contour\"}],\"contourcarpet\":[{\"colorbar\":{\"outlinewidth\":0,\"ticks\":\"\"},\"type\":\"contourcarpet\"}],\"heatmap\":[{\"colorbar\":{\"outlinewidth\":0,\"ticks\":\"\"},\"colorscale\":[[0.0,\"#0d0887\"],[0.1111111111111111,\"#46039f\"],[0.2222222222222222,\"#7201a8\"],[0.3333333333333333,\"#9c179e\"],[0.4444444444444444,\"#bd3786\"],[0.5555555555555556,\"#d8576b\"],[0.6666666666666666,\"#ed7953\"],[0.7777777777777778,\"#fb9f3a\"],[0.8888888888888888,\"#fdca26\"],[1.0,\"#f0f921\"]],\"type\":\"heatmap\"}],\"heatmapgl\":[{\"colorbar\":{\"outlinewidth\":0,\"ticks\":\"\"},\"colorscale\":[[0.0,\"#0d0887\"],[0.1111111111111111,\"#46039f\"],[0.2222222222222222,\"#7201a8\"],[0.3333333333333333,\"#9c179e\"],[0.4444444444444444,\"#bd3786\"],[0.5555555555555556,\"#d8576b\"],[0.6666666666666666,\"#ed7953\"],[0.7777777777777778,\"#fb9f3a\"],[0.8888888888888888,\"#fdca26\"],[1.0,\"#f0f921\"]],\"type\":\"heatmapgl\"}],\"histogram\":[{\"marker\":{\"pattern\":{\"fillmode\":\"overlay\",\"size\":10,\"solidity\":0.2}},\"type\":\"histogram\"}],\"histogram2d\":[{\"colorbar\":{\"outlinewidth\":0,\"ticks\":\"\"},\"colorscale\":[[0.0,\"#0d0887\"],[0.1111111111111111,\"#46039f\"],[0.2222222222222222,\"#7201a8\"],[0.3333333333333333,\"#9c179e\"],[0.4444444444444444,\"#bd3786\"],[0.5555555555555556,\"#d8576b\"],[0.6666666666666666,\"#ed7953\"],[0.7777777777777778,\"#fb9f3a\"],[0.8888888888888888,\"#fdca26\"],[1.0,\"#f0f921\"]],\"type\":\"histogram2d\"}],\"histogram2dcontour\":[{\"colorbar\":{\"outlinewidth\":0,\"ticks\":\"\"},\"colorscale\":[[0.0,\"#0d0887\"],[0.1111111111111111,\"#46039f\"],[0.2222222222222222,\"#7201a8\"],[0.3333333333333333,\"#9c179e\"],[0.4444444444444444,\"#bd3786\"],[0.5555555555555556,\"#d8576b\"],[0.6666666666666666,\"#ed7953\"],[0.7777777777777778,\"#fb9f3a\"],[0.8888888888888888,\"#fdca26\"],[1.0,\"#f0f921\"]],\"type\":\"histogram2dcontour\"}],\"mesh3d\":[{\"colorbar\":{\"outlinewidth\":0,\"ticks\":\"\"},\"type\":\"mesh3d\"}],\"parcoords\":[{\"line\":{\"colorbar\":{\"outlinewidth\":0,\"ticks\":\"\"}},\"type\":\"parcoords\"}],\"pie\":[{\"automargin\":true,\"type\":\"pie\"}],\"scatter\":[{\"marker\":{\"colorbar\":{\"outlinewidth\":0,\"ticks\":\"\"}},\"type\":\"scatter\"}],\"scatter3d\":[{\"line\":{\"colorbar\":{\"outlinewidth\":0,\"ticks\":\"\"}},\"marker\":{\"colorbar\":{\"outlinewidth\":0,\"ticks\":\"\"}},\"type\":\"scatter3d\"}],\"scattercarpet\":[{\"marker\":{\"colorbar\":{\"outlinewidth\":0,\"ticks\":\"\"}},\"type\":\"scattercarpet\"}],\"scattergeo\":[{\"marker\":{\"colorbar\":{\"outlinewidth\":0,\"ticks\":\"\"}},\"type\":\"scattergeo\"}],\"scattergl\":[{\"marker\":{\"colorbar\":{\"outlinewidth\":0,\"ticks\":\"\"}},\"type\":\"scattergl\"}],\"scattermapbox\":[{\"marker\":{\"colorbar\":{\"outlinewidth\":0,\"ticks\":\"\"}},\"type\":\"scattermapbox\"}],\"scatterpolar\":[{\"marker\":{\"colorbar\":{\"outlinewidth\":0,\"ticks\":\"\"}},\"type\":\"scatterpolar\"}],\"scatterpolargl\":[{\"marker\":{\"colorbar\":{\"outlinewidth\":0,\"ticks\":\"\"}},\"type\":\"scatterpolargl\"}],\"scatterternary\":[{\"marker\":{\"colorbar\":{\"outlinewidth\":0,\"ticks\":\"\"}},\"type\":\"scatterternary\"}],\"surface\":[{\"colorbar\":{\"outlinewidth\":0,\"ticks\":\"\"},\"colorscale\":[[0.0,\"#0d0887\"],[0.1111111111111111,\"#46039f\"],[0.2222222222222222,\"#7201a8\"],[0.3333333333333333,\"#9c179e\"],[0.4444444444444444,\"#bd3786\"],[0.5555555555555556,\"#d8576b\"],[0.6666666666666666,\"#ed7953\"],[0.7777777777777778,\"#fb9f3a\"],[0.8888888888888888,\"#fdca26\"],[1.0,\"#f0f921\"]],\"type\":\"surface\"}],\"table\":[{\"cells\":{\"fill\":{\"color\":\"#EBF0F8\"},\"line\":{\"color\":\"white\"}},\"header\":{\"fill\":{\"color\":\"#C8D4E3\"},\"line\":{\"color\":\"white\"}},\"type\":\"table\"}]},\"layout\":{\"annotationdefaults\":{\"arrowcolor\":\"#2a3f5f\",\"arrowhead\":0,\"arrowwidth\":1},\"autotypenumbers\":\"strict\",\"coloraxis\":{\"colorbar\":{\"outlinewidth\":0,\"ticks\":\"\"}},\"colorscale\":{\"diverging\":[[0,\"#8e0152\"],[0.1,\"#c51b7d\"],[0.2,\"#de77ae\"],[0.3,\"#f1b6da\"],[0.4,\"#fde0ef\"],[0.5,\"#f7f7f7\"],[0.6,\"#e6f5d0\"],[0.7,\"#b8e186\"],[0.8,\"#7fbc41\"],[0.9,\"#4d9221\"],[1,\"#276419\"]],\"sequential\":[[0.0,\"#0d0887\"],[0.1111111111111111,\"#46039f\"],[0.2222222222222222,\"#7201a8\"],[0.3333333333333333,\"#9c179e\"],[0.4444444444444444,\"#bd3786\"],[0.5555555555555556,\"#d8576b\"],[0.6666666666666666,\"#ed7953\"],[0.7777777777777778,\"#fb9f3a\"],[0.8888888888888888,\"#fdca26\"],[1.0,\"#f0f921\"]],\"sequentialminus\":[[0.0,\"#0d0887\"],[0.1111111111111111,\"#46039f\"],[0.2222222222222222,\"#7201a8\"],[0.3333333333333333,\"#9c179e\"],[0.4444444444444444,\"#bd3786\"],[0.5555555555555556,\"#d8576b\"],[0.6666666666666666,\"#ed7953\"],[0.7777777777777778,\"#fb9f3a\"],[0.8888888888888888,\"#fdca26\"],[1.0,\"#f0f921\"]]},\"colorway\":[\"#636efa\",\"#EF553B\",\"#00cc96\",\"#ab63fa\",\"#FFA15A\",\"#19d3f3\",\"#FF6692\",\"#B6E880\",\"#FF97FF\",\"#FECB52\"],\"font\":{\"color\":\"#2a3f5f\"},\"geo\":{\"bgcolor\":\"white\",\"lakecolor\":\"white\",\"landcolor\":\"#E5ECF6\",\"showlakes\":true,\"showland\":true,\"subunitcolor\":\"white\"},\"hoverlabel\":{\"align\":\"left\"},\"hovermode\":\"closest\",\"mapbox\":{\"style\":\"light\"},\"paper_bgcolor\":\"white\",\"plot_bgcolor\":\"#E5ECF6\",\"polar\":{\"angularaxis\":{\"gridcolor\":\"white\",\"linecolor\":\"white\",\"ticks\":\"\"},\"bgcolor\":\"#E5ECF6\",\"radialaxis\":{\"gridcolor\":\"white\",\"linecolor\":\"white\",\"ticks\":\"\"}},\"scene\":{\"xaxis\":{\"backgroundcolor\":\"#E5ECF6\",\"gridcolor\":\"white\",\"gridwidth\":2,\"linecolor\":\"white\",\"showbackground\":true,\"ticks\":\"\",\"zerolinecolor\":\"white\"},\"yaxis\":{\"backgroundcolor\":\"#E5ECF6\",\"gridcolor\":\"white\",\"gridwidth\":2,\"linecolor\":\"white\",\"showbackground\":true,\"ticks\":\"\",\"zerolinecolor\":\"white\"},\"zaxis\":{\"backgroundcolor\":\"#E5ECF6\",\"gridcolor\":\"white\",\"gridwidth\":2,\"linecolor\":\"white\",\"showbackground\":true,\"ticks\":\"\",\"zerolinecolor\":\"white\"}},\"shapedefaults\":{\"line\":{\"color\":\"#2a3f5f\"}},\"ternary\":{\"aaxis\":{\"gridcolor\":\"white\",\"linecolor\":\"white\",\"ticks\":\"\"},\"baxis\":{\"gridcolor\":\"white\",\"linecolor\":\"white\",\"ticks\":\"\"},\"bgcolor\":\"#E5ECF6\",\"caxis\":{\"gridcolor\":\"white\",\"linecolor\":\"white\",\"ticks\":\"\"}},\"title\":{\"x\":0.05},\"xaxis\":{\"automargin\":true,\"gridcolor\":\"white\",\"linecolor\":\"white\",\"ticks\":\"\",\"title\":{\"standoff\":15},\"zerolinecolor\":\"white\",\"zerolinewidth\":2},\"yaxis\":{\"automargin\":true,\"gridcolor\":\"white\",\"linecolor\":\"white\",\"ticks\":\"\",\"title\":{\"standoff\":15},\"zerolinecolor\":\"white\",\"zerolinewidth\":2}}}},\"margin\":[5,5,5,5],\"name\":\"interactive24146\",\"viewport_update_throttle\":200},\"id\":\"25898\",\"type\":\"panel.models.plotly.PlotlyPlot\"},{\"attributes\":{\"children\":[{\"id\":\"26076\"}],\"margin\":[0,0,0,0],\"name\":\"Row24058\"},\"id\":\"26072\",\"type\":\"Row\"},{\"attributes\":{},\"id\":\"26094\",\"type\":\"PanTool\"},{\"attributes\":{\"data_source\":{\"id\":\"25951\"},\"glyph\":{\"id\":\"25954\"},\"hover_glyph\":null,\"muted_glyph\":{\"id\":\"25956\"},\"nonselection_glyph\":{\"id\":\"25955\"},\"selection_glyph\":{\"id\":\"25959\"},\"view\":{\"id\":\"25958\"}},\"id\":\"25957\",\"type\":\"GlyphRenderer\"},{\"attributes\":{},\"id\":\"25764\",\"type\":\"WheelZoomTool\"},{\"attributes\":{\"active_multi\":null,\"tools\":[{\"id\":\"26220\"},{\"id\":\"26238\"},{\"id\":\"26239\"},{\"id\":\"26240\"},{\"id\":\"26241\"},{\"id\":\"26242\"}]},\"id\":\"26244\",\"type\":\"Toolbar\"},{\"attributes\":{\"bottom_units\":\"screen\",\"fill_alpha\":0.5,\"fill_color\":\"lightgrey\",\"left_units\":\"screen\",\"level\":\"overlay\",\"line_alpha\":1.0,\"line_color\":\"black\",\"line_dash\":[4,4],\"line_width\":2,\"right_units\":\"screen\",\"syncable\":false,\"top_units\":\"screen\"},\"id\":\"26243\",\"type\":\"BoxAnnotation\"},{\"attributes\":{\"end\":2016.0,\"reset_end\":2016.0,\"reset_start\":2010.0,\"start\":2010.0,\"tags\":[[[\"year\",\"year\",null]]]},\"id\":\"26073\",\"type\":\"Range1d\"},{\"attributes\":{\"children\":[{\"id\":\"26071\"},{\"id\":\"26072\"}],\"margin\":[0,0,0,0],\"name\":\"Column23978\"},\"id\":\"26070\",\"type\":\"Column\"},{\"attributes\":{\"fill_alpha\":{\"value\":0.1},\"fill_color\":{\"value\":\"#2F4F4F\"},\"line_alpha\":{\"value\":0.1},\"top\":{\"field\":\"sale_price_sqr_foot\"},\"width\":{\"value\":0.5},\"x\":{\"field\":\"neighborhood\"}},\"id\":\"25779\",\"type\":\"VBar\"},{\"attributes\":{\"data\":{\"sale_price_sqr_foot\":{\"__ndarray__\":\"Dkc7WO0yckCafszcbwhxQIGRs5ot42ZAJzog0LQ8eEAWMinKGEd+QI0V5FDt0IJAVCHcmLVPdUA=\",\"dtype\":\"float64\",\"order\":\"little\",\"shape\":[7]},\"year\":[2010,2011,2012,2013,2014,2015,2016]},\"selected\":{\"id\":\"26299\"},\"selection_policy\":{\"id\":\"26332\"}},\"id\":\"26298\",\"type\":\"ColumnDataSource\"},{\"attributes\":{},\"id\":\"25835\",\"type\":\"WheelZoomTool\"},{\"attributes\":{\"js_property_callbacks\":{\"change:active\":[{\"id\":\"26992\"},{\"id\":\"27105\"},{\"id\":\"27216\"}]},\"margin\":[0,0,0,0],\"tabs\":[{\"id\":\"25906\"},{\"id\":\"25914\"},{\"id\":\"26068\"},{\"id\":\"26212\"},{\"id\":\"26537\"}]},\"id\":\"25736\",\"type\":\"Tabs\"},{\"attributes\":{},\"id\":\"26265\",\"type\":\"BasicTickFormatter\"},{\"attributes\":{\"overlay\":{\"id\":\"25767\"}},\"id\":\"25765\",\"type\":\"BoxZoomTool\"},{\"attributes\":{},\"id\":\"26037\",\"type\":\"BasicTickFormatter\"},{\"attributes\":{\"children\":[{\"id\":\"25740\"},{\"id\":\"25810\"}],\"margin\":[0,0,0,0],\"name\":\"Row24238\"},\"id\":\"25739\",\"type\":\"Row\"},{\"attributes\":{\"active_multi\":null,\"tools\":[{\"id\":\"25745\"},{\"id\":\"25762\"},{\"id\":\"25763\"},{\"id\":\"25764\"},{\"id\":\"25765\"},{\"id\":\"25766\"}]},\"id\":\"25768\",\"type\":\"Toolbar\"},{\"attributes\":{\"factors\":[\"sale_price_sqr_foot\",\"gross_rent\"],\"palette\":[\"#30a2da\",\"#fc4f30\"]},\"id\":\"26022\",\"type\":\"CategoricalColorMapper\"},{\"attributes\":{\"below\":[{\"id\":\"26002\"}],\"center\":[{\"id\":\"26004\"},{\"id\":\"26008\"}],\"height\":400,\"left\":[{\"id\":\"26005\"}],\"margin\":[5,5,5,5],\"min_border_bottom\":10,\"min_border_left\":10,\"min_border_right\":10,\"min_border_top\":10,\"renderers\":[{\"id\":\"26029\"}],\"sizing_mode\":\"fixed\",\"title\":{\"id\":\"25994\"},\"toolbar\":{\"id\":\"26015\"},\"x_range\":{\"id\":\"25990\"},\"x_scale\":{\"id\":\"25998\"},\"y_range\":{\"id\":\"25991\"},\"y_scale\":{\"id\":\"26000\"}},\"id\":\"25993\",\"subtype\":\"Figure\",\"type\":\"Plot\"},{\"attributes\":{\"line_alpha\":0.2,\"line_color\":\"#8B0000\",\"line_width\":2,\"x\":{\"field\":\"year\"},\"y\":{\"field\":\"sale_price_sqr_foot\"}},\"id\":\"26182\",\"type\":\"Line\"},{\"attributes\":{\"line_color\":\"#8B0000\",\"line_width\":2,\"x\":{\"field\":\"year\"},\"y\":{\"field\":\"gross_rent\"}},\"id\":\"26259\",\"type\":\"Line\"},{\"attributes\":{},\"id\":\"25834\",\"type\":\"PanTool\"},{\"attributes\":{\"children\":[{\"id\":\"25993\"},{\"id\":\"26064\"}],\"margin\":[0,0,0,0],\"name\":\"interactive24239\"},\"id\":\"25989\",\"type\":\"Row\"},{\"attributes\":{},\"id\":\"26164\",\"type\":\"SaveTool\"},{\"attributes\":{\"callback\":null,\"renderers\":[{\"id\":\"25853\"}],\"tags\":[\"hv_created\"],\"tooltips\":[[\"year\",\"@{year}\"],[\"Variable\",\"@{Variable}\"],[\"value\",\"@{value}\"]]},\"id\":\"25816\",\"type\":\"HoverTool\"},{\"attributes\":{\"fill_color\":{\"field\":\"Variable\",\"transform\":{\"id\":\"26022\"}},\"top\":{\"field\":\"value\"},\"width\":{\"value\":0.8},\"x\":{\"field\":\"xoffsets\"}},\"id\":\"26026\",\"type\":\"VBar\"},{\"attributes\":{\"axis\":{\"id\":\"26005\"},\"dimension\":1,\"grid_line_color\":null,\"ticker\":null},\"id\":\"26008\",\"type\":\"Grid\"},{\"attributes\":{\"line_alpha\":0.2,\"line_color\":\"#2F4F4F\",\"line_width\":2,\"x\":{\"field\":\"year\"},\"y\":{\"field\":\"gross_rent\"}},\"id\":\"26111\",\"type\":\"Line\"},{\"attributes\":{},\"id\":\"26308\",\"type\":\"AllLabels\"},{\"attributes\":{},\"id\":\"26129\",\"type\":\"UnionRenderers\"},{\"attributes\":{\"bottom_units\":\"screen\",\"fill_alpha\":0.5,\"fill_color\":\"lightgrey\",\"left_units\":\"screen\",\"level\":\"overlay\",\"line_alpha\":1.0,\"line_color\":\"black\",\"line_dash\":[4,4],\"line_width\":2,\"right_units\":\"screen\",\"syncable\":false,\"top_units\":\"screen\"},\"id\":\"25767\",\"type\":\"BoxAnnotation\"},{\"attributes\":{\"line_color\":\"#8B0000\",\"line_width\":2,\"x\":{\"field\":\"year\"},\"y\":{\"field\":\"sale_price_sqr_foot\"}},\"id\":\"26185\",\"type\":\"Line\"},{\"attributes\":{\"bottom_units\":\"screen\",\"fill_alpha\":0.5,\"fill_color\":\"lightgrey\",\"left_units\":\"screen\",\"level\":\"overlay\",\"line_alpha\":1.0,\"line_color\":\"black\",\"line_dash\":[4,4],\"line_width\":2,\"right_units\":\"screen\",\"syncable\":false,\"top_units\":\"screen\"},\"id\":\"25943\",\"type\":\"BoxAnnotation\"},{\"attributes\":{\"source\":{\"id\":\"26023\"}},\"id\":\"26030\",\"type\":\"CDSView\"},{\"attributes\":{\"factors\":[[\"2010\",\"gross_rent\"],[\"2010\",\"sale_price_sqr_foot\"],[\"2011\",\"gross_rent\"],[\"2011\",\"sale_price_sqr_foot\"],[\"2012\",\"gross_rent\"],[\"2012\",\"sale_price_sqr_foot\"],[\"2013\",\"gross_rent\"],[\"2013\",\"sale_price_sqr_foot\"],[\"2014\",\"gross_rent\"],[\"2014\",\"sale_price_sqr_foot\"],[\"2015\",\"gross_rent\"],[\"2015\",\"sale_price_sqr_foot\"],[\"2016\",\"gross_rent\"],[\"2016\",\"sale_price_sqr_foot\"]],\"tags\":[[[\"year\",\"year\",null],[\"Variable\",\"Variable\",null]]]},\"id\":\"25990\",\"type\":\"FactorRange\"},{\"attributes\":{},\"id\":\"26187\",\"type\":\"AllLabels\"},{\"attributes\":{\"margin\":[20,20,20,20],\"min_width\":250,\"options\":[\"Alamo Square\",\"Anza Vista\",\"Bayview\",\"Buena Vista Park\",\"Central Richmond\",\"Central Sunset\",\"Corona Heights\",\"Cow Hollow\",\"Croker Amazon\",\"Diamond Heights\",\"Downtown \",\"Eureka Valley/Dolores Heights\",\"Excelsior\",\"Financial District North\",\"Financial District South\",\"Forest Knolls\",\"Glen Park\",\"Golden Gate Heights\",\"Haight Ashbury\",\"Hayes Valley\",\"Hunters Point\",\"Ingleside \",\"Inner Mission\",\"Inner Parkside\",\"Inner Richmond\",\"Inner Sunset\",\"Jordan Park/Laurel Heights\",\"Lake --The Presidio\",\"Lone Mountain\",\"Lower Pacific Heights\",\"Marina\",\"Miraloma Park\",\"Mission Bay\",\"Mission Dolores\",\"Mission Terrace\",\"Nob Hill\",\"Noe Valley\",\"Oceanview\",\"Outer Parkside\",\"Outer Richmond \",\"Outer Sunset\",\"Pacific Heights\",\"Park North\",\"Parkside\",\"Parnassus/Ashbury Heights\",\"Portola\",\"Potrero Hill\",\"Presidio Heights\",\"Russian Hill\",\"South Beach\",\"South of Market\",\"Sunnyside\",\"Telegraph Hill\",\"Twin Peaks\",\"Union Square District\",\"Van Ness/ Civic Center\",\"West Portal\",\"Western Addition\",\"Yerba Buena\",\"Bernal Heights \",\"Clarendon Heights\",\"Duboce Triangle\",\"Ingleside Heights\",\"North Beach\",\"North Waterfront\",\"Outer Mission\",\"Westwood Highlands\",\"Merced Heights\",\"Midtown Terrace\",\"Visitacion Valley\",\"Silver Terrace\",\"Westwood Park\",\"Bayview Heights\"],\"title\":\"neighborhood\",\"value\":\"Alamo Square\",\"width\":250},\"id\":\"26066\",\"type\":\"Select\"},{\"attributes\":{\"callback\":null,\"renderers\":[{\"id\":\"25781\"}],\"tags\":[\"hv_created\"],\"tooltips\":[[\"neighborhood\",\"@{neighborhood}\"],[\"sale_price_sqr_foot\",\"@{sale_price_sqr_foot}\"]]},\"id\":\"25745\",\"type\":\"HoverTool\"},{\"attributes\":{\"css_classes\":[\"markdown\"],\"margin\":[5,5,5,5],\"name\":\"Markdown22468\",\"text\":\"&lt;h2&gt;Housing Units Per Year&lt;/h2&gt;\"},\"id\":\"25900\",\"type\":\"panel.models.markup.HTML\"},{\"attributes\":{\"source\":{\"id\":\"25847\"}},\"id\":\"25854\",\"type\":\"CDSView\"},{\"attributes\":{\"children\":[{\"id\":\"25902\"},{\"id\":\"25903\"}],\"margin\":[0,0,0,0],\"name\":\"Column22471\"},\"id\":\"25901\",\"type\":\"Column\"},{\"attributes\":{\"margin\":[0,0,0,0],\"name\":\"Column24151\"},\"id\":\"25895\",\"type\":\"Column\"},{\"attributes\":{\"end\":929.3801355198136,\"reset_end\":929.3801355198136,\"reset_start\":0.0,\"tags\":[[[\"sale_price_sqr_foot\",\"sale_price_sqr_foot\",null]]]},\"id\":\"25744\",\"type\":\"Range1d\"},{\"attributes\":{\"factors\":[[\"2010\",\"gross_rent\"],[\"2010\",\"sale_price_sqr_foot\"],[\"2011\",\"gross_rent\"],[\"2011\",\"sale_price_sqr_foot\"],[\"2012\",\"gross_rent\"],[\"2012\",\"sale_price_sqr_foot\"],[\"2013\",\"gross_rent\"],[\"2013\",\"sale_price_sqr_foot\"],[\"2014\",\"gross_rent\"],[\"2014\",\"sale_price_sqr_foot\"],[\"2015\",\"gross_rent\"],[\"2015\",\"sale_price_sqr_foot\"],[\"2016\",\"gross_rent\"],[\"2016\",\"sale_price_sqr_foot\"]],\"tags\":[[[\"year\",\"year\",null],[\"Variable\",\"Variable\",null]]]},\"id\":\"25814\",\"type\":\"FactorRange\"},{\"attributes\":{\"active_multi\":null,\"tools\":[{\"id\":\"25921\"},{\"id\":\"25938\"},{\"id\":\"25939\"},{\"id\":\"25940\"},{\"id\":\"25941\"},{\"id\":\"25942\"}]},\"id\":\"25944\",\"type\":\"Toolbar\"},{\"attributes\":{\"children\":[{\"id\":\"25813\"}],\"margin\":[0,0,0,0],\"name\":\"Row24274\"},\"id\":\"25812\",\"type\":\"Row\"},{\"attributes\":{\"factors\":[\"Union Square District\",\"Merced Heights\",\"Miraloma Park\",\"Pacific Heights\",\"Westwood Park\",\"Telegraph Hill\",\"Presidio Heights\",\"Cow Hollow\",\"Potrero Hill\",\"South Beach\"],\"tags\":[[[\"neighborhood\",\"neighborhood\",null]]]},\"id\":\"25919\",\"type\":\"FactorRange\"},{\"attributes\":{\"children\":[{\"id\":\"25817\"},{\"id\":\"25888\"}],\"margin\":[0,0,0,0],\"name\":\"interactive24239\"},\"id\":\"25813\",\"type\":\"Row\"},{\"attributes\":{\"data\":{\"hovertext\":[[\"Alamo Square\",\"Anza Vista\",\"Bayview\",\"Bayview Heights\",\"Bernal Heights\",\"Buena Vista Park\",\"Central Richmond\",\"Central Sunset\",\"Clarendon Heights\",\"Corona Heights\",\"Cow Hollow\",\"Croker Amazon\",\"Diamond Heights\",\"Downtown\",\"Duboce Triangle\",\"Eureka Valley/Dolores Heights\",\"Excelsior\",\"Financial District North\",\"Financial District South\",\"Forest Knolls\",\"Glen Park\",\"Golden Gate Heights\",\"Haight Ashbury\",\"Hayes Valley\",\"Hunters Point\",\"Ingleside\",\"Ingleside Heights\",\"Inner Mission\",\"Inner Parkside\",\"Inner Richmond\",\"Inner Sunset\",\"Jordan Park/Laurel Heights\",\"Lake --The Presidio\",\"Lone Mountain\",\"Lower Pacific Heights\",\"Marina\",\"Merced Heights\",\"Midtown Terrace\",\"Miraloma Park\",\"Mission Bay\",\"Mission Dolores\",\"Mission Terrace\",\"Nob Hill\",\"Noe Valley\",\"North Beach\",\"North Waterfront\",\"Oceanview\",\"Outer Mission\",\"Outer Parkside\",\"Outer Richmond\",\"Outer Sunset\",\"Pacific Heights\",\"Park North\",\"Parkside\",\"Parnassus/Ashbury Heights\",\"Portola\",\"Potrero Hill\",\"Presidio Heights\",\"Russian Hill\",\"Silver Terrace\",\"South Beach\",\"South of Market\",\"Sunnyside\",\"Telegraph Hill\",\"Twin Peaks\",\"Union Square District\",\"Van Ness/ Civic Center\",\"Visitacion Valley\",\"West Portal\",\"Western Addition\",\"Westwood Highlands\",\"Westwood Park\",\"Yerba Buena\"]],\"lat\":[{\"__ndarray__\":\"LV+X4T/lQkB1AwXeyeNCQBmto6oJ3kJAvqQxWkfdQkA2cXK/Q91CQDQMHxFT4kJAVvFG5pHjQkCVYHE4899CQPjfSnZs4EJAcQM+P4zkQkDoMF9egOVCQD/G3LWE3EJANnFyv0PdQkCMZ9DQP+VCQMPYQpCD4kJA8WjjiLXgQkC+pDFaR91CQIxn0NA/5UJAjGfQ0D/lQkAMjpJX5+BCQDZxcr9D3UJAe5+qQgPhQkDLoUW28+FCQMuhRbbz4UJA4nX9gt3cQkBIE+8AT9xCQHiXi/hO3EJAxvmbUIjgQkCVYHE4899CQAd7E0Ny4kJAlWBxOPPfQkBxAz4/jORCQIOLFTWY5kJAXW3F/rLjQkDoMF9egOVCQIP6ljld5kJAY7SOqibcQkD430p2bOBCQOAtkKD43UJAf59x4UDkQkCO6QlLPOBCQDZxcr9D3UJA6DBfXoDlQkD430p2bOBCQApoImx45kJACmgibHjmQkBjtI6qJtxCQD/G3LWE3EJAnDOitDfgQkBmg0wycuJCQJVgcTjz30JA6DBfXoDlQkC+h0uOO91CQJVgcTjz30JAL26jAbzhQkAZraOqCd5CQHb9gt2w3UJAcQM+P4zkQkDoMF9egOVCQBmto6oJ3kJAf59x4UDkQkCMZ9DQP+VCQOAtkKD43UJACmgibHjmQkDIW65+bOBCQIxn0NA/5UJA1XPS+8bjQkC+pDFaR91CQLtE9dbA3kJA6DBfXoDlQkCDL0ymCt5CQOAtkKD43UJA6DBfXoDlQkA=\",\"dtype\":\"float64\",\"order\":\"little\",\"shape\":[73]}],\"lon\":[{\"__ndarray__\":\"L26jAbyZXsA5mE2AYZxewPfuj/eqmV7A2dMOf02aXsCKH2PuWpxewLWJk/sdnF7AQspPqn2cXsB9VwT/W59ewC2VtyOcnF7Ad76fGi+dXsAge73745tewEPFOH8TnF7Aih9j7lqcXsAvbqMBvJlewOmf4GJFm17AAyFZwAScXsDZ0w5/TZpewC9uowG8mV7AL26jAbyZXsAkr84xIJ1ewIofY+5anF7AJyzxgLKdXsBPl8XE5ptewE+XxcTmm17ApFNXPsuXXsBmu0IfLJ9ewDY3picsn17AzOmymNiaXsB9VwT/W59ewEjdzr7ynl7AWoEhq1ufXsB3vp8aL51ewIjvxKwXnV7APz+MEB6dXsAge73745tewBU1mIbhnV7Aj+TyH9KdXsAtlbcjnJxewGmR7Xw/nV7AHcnlP6SZXsC6ZvLNNptewIofY+5anF7AIHu9++ObXsAtlbcjnJxewKuy74rgmV7Aq7LviuCZXsCP5PIf0p1ewEPFOH8TnF7ABoGVQ4ucXsDp1JXP8p5ewH1XBP9bn17AIHu9++ObXsDHM2jon55ewH1XBP9bn17A7MA5I0qdXsD37o/3qplewDehEAGHmF7Ad76fGi+dXsAge73745tewPfuj/eqmV7AHcnlP6SZXsAvbqMBvJlewGmR7Xw/nV7Aq7LviuCZXsBF14UfnJxewC9uowG8mV7AAkht4uSaXsDZ0w5/TZpewC9RvTWwnV7AIHu9++ObXsD/Qo8YPZ1ewGmR7Xw/nV7AVFxV9l2ZXsA=\",\"dtype\":\"float64\",\"order\":\"little\",\"shape\":[73]}],\"marker.color\":[{\"__ndarray__\":\"SZIkSZICpkCrqqqqqq+nQM3MzMzMHKJAAAAAAAA2rUCrqqqqqhCoQKuqqqqqFaVASZIkSZICpkBJkiRJkgKmQAAAAAAAlaFAAAAAAABQo0BJkiRJkgKmQKuqqqqqFaVAAAAAAACAn0BJkiRJkgKmQAAAAACAuKVASZIkSZICpkCrqqqqqq+nQEmSJEmSAqZAAAAAAABQo0AAAAAAANabQAAAAAAAp6ZAzczMzMxSpEBJkiRJkgKmQEmSJEmSAqZAAAAAAAByo0AAAAAAAJqjQAAAAAAAIKdASZIkSZICpkAAAAAAADCpQEmSJEmSAqZASZIkSZICpkBJkiRJkgKmQFVVVVVV9qNAVVVVVVX2o0BJkiRJkgKmQEmSJEmSAqZAAAAAAACsqkAAAAAAAK+kQAAAAACA1qBAVVVVVVXPpEBVVVVVVfajQM3MzMzMyqhASZIkSZICpkBJkiRJkgKmQJqZmZmZXadAzczMzMwEpkAAAAAAAASjQAAAAACAZ6dASZIkSZICpkBJkiRJkgKmQEmSJEmSAqZASZIkSZICpkBJkiRJkgKmQFVVVVVV9qNASZIkSZICpkDNzMzMzByiQEmSJEmSAqZASZIkSZICpkBJkiRJkgKmQAAAAAAAkKtAAAAAAABmoEBJkiRJkgKmQAAAAAAAp6ZASZIkSZICpkBJkiRJkgKmQFVVVVVV9qNASZIkSZICpkAAAAAAAJKsQAAAAAAAp6NAVVVVVVX2o0AAAAAAAJWhQAAAAAAA7q5AVVVVVVX2o0A=\",\"dtype\":\"float64\",\"order\":\"little\",\"shape\":[73]}],\"marker.size\":[{\"__ndarray__\":\"cJyd1VTgdkAk1Xd7HVZ3QMu7p//VkmlA/m3ou1d2gkCwicLO+AWCQOHeULPjSnxAkyM5JcKmeEDxRHrAAXt6QGAgnA3rc35AdiCNAlBcgkANV25bts+EQC2aqyMR8HJADjYuKt4ve0BAExo283Z4QAT0IiSWaX9Azb8HR/0RhECMIKw8QUx4QEysfO/MdXhARl0VIGF9fEDnKA0RdB10QMn/9wKcfoNAa+R3ASb7g0BCjahYtxh8QECb/9zsPnZABT/1V/9TZUCYt5qCUv52QPmqSlDEDHhAfmgaicfaeECrA3m3FTuAQN85W0+CqXdAyXixJK7aeUCo3p7PEouAQBsbzgZFn3lA1YI2J6jjfUADLzpc59mAQOt1/4D+PYJAfSK5L8KmiEDjM3wxFTSBQFx/3pp8XohAcr9Bp4mxgUC9Hcljpi56QAabwse6W4BAhQqU+EOjfEAzwd8Vi/OAQA1GhppZunlANYyg6lAkf0A0VzbjjqF0QGONxdbeS25ATpTGpG5QfkAuXEiRaZ59QGJw/yeBo3hAFpsVUHKMhUAyVprHuVt3QBQ4ODjDAnVAYJzjcuzFg0CTVGKj0nF0QJrMCuEbsIRAy835O80ahUBvvf+g3QeDQNMptI5cSWVAya3y7v5QhECG4cLhK9KBQP9hf/GLgoBAvQqFeA0khUCLIC7GYFZ9QCUQFDHyP4xAR1RQI2dCeUCgCCJ5dddyQMr0d9XQJ39AXWt0xv44c0BA3+aooa2AQGzQRFqzeIVAg478xK0FgkA=\",\"dtype\":\"float64\",\"order\":\"little\",\"shape\":[73]}]},\"selected\":{\"id\":\"26543\"},\"selection_policy\":{\"id\":\"26542\"}},\"id\":\"25912\",\"type\":\"ColumnDataSource\"},{\"attributes\":{},\"id\":\"26543\",\"type\":\"Selection\"},{\"attributes\":{\"children\":[{\"id\":\"25905\"}],\"margin\":[0,0,0,0],\"name\":\"Row22474\"},\"id\":\"25903\",\"type\":\"Row\"},{\"attributes\":{},\"id\":\"25753\",\"type\":\"LinearScale\"},{\"attributes\":{},\"id\":\"26542\",\"type\":\"UnionRenderers\"},{\"attributes\":{\"margin\":[0,0,0,0],\"name\":\"Column24275\"},\"id\":\"25811\",\"type\":\"Column\"},{\"attributes\":{},\"id\":\"25929\",\"type\":\"LinearScale\"},{\"attributes\":{\"margin\":[0,0,0,0],\"name\":\"Column24059\"},\"id\":\"26071\",\"type\":\"Column\"},{\"attributes\":{\"below\":[{\"id\":\"25755\"}],\"center\":[{\"id\":\"25757\"},{\"id\":\"25761\"}],\"height\":300,\"left\":[{\"id\":\"25758\"}],\"margin\":[5,5,5,5],\"min_border_bottom\":10,\"min_border_left\":10,\"min_border_right\":10,\"min_border_top\":10,\"renderers\":[{\"id\":\"25781\"}],\"sizing_mode\":\"fixed\",\"title\":{\"id\":\"25747\"},\"toolbar\":{\"id\":\"25768\"},\"width\":700,\"x_range\":{\"id\":\"25743\"},\"x_scale\":{\"id\":\"25751\"},\"y_range\":{\"id\":\"25744\"},\"y_scale\":{\"id\":\"25753\"}},\"id\":\"25746\",\"subtype\":\"Figure\",\"type\":\"Plot\"},{\"attributes\":{},\"id\":\"25837\",\"type\":\"ResetTool\"},{\"attributes\":{\"fill_alpha\":{\"value\":0.1},\"fill_color\":{\"field\":\"Variable\",\"transform\":{\"id\":\"26022\"}},\"line_alpha\":{\"value\":0.1},\"top\":{\"field\":\"value\"},\"width\":{\"value\":0.8},\"x\":{\"field\":\"xoffsets\"}},\"id\":\"26027\",\"type\":\"VBar\"},{\"attributes\":{},\"id\":\"26116\",\"type\":\"AllLabels\"},{\"attributes\":{\"margin\":[0,0,0,0],\"name\":\"Column24143\"},\"id\":\"26142\",\"type\":\"Column\"},{\"attributes\":{\"data\":{\"gross_rent\":[1239,1530,2324,2971,3528,3739,4390],\"year\":[2010,2011,2012,2013,2014,2015,2016]},\"selected\":{\"id\":\"26107\"},\"selection_policy\":{\"id\":\"26129\"}},\"id\":\"26106\",\"type\":\"ColumnDataSource\"},{\"attributes\":{\"children\":[{\"id\":\"25898\"}],\"margin\":[0,0,0,0],\"name\":\"Row24150\"},\"id\":\"25896\",\"type\":\"Row\"},{\"attributes\":{},\"id\":\"25776\",\"type\":\"Selection\"},{\"attributes\":{\"data\":{\"Variable\":[\"sale_price_sqr_foot\",\"sale_price_sqr_foot\",\"sale_price_sqr_foot\",\"sale_price_sqr_foot\",\"sale_price_sqr_foot\",\"sale_price_sqr_foot\",\"sale_price_sqr_foot\",\"gross_rent\",\"gross_rent\",\"gross_rent\",\"gross_rent\",\"gross_rent\",\"gross_rent\",\"gross_rent\"],\"value\":{\"__ndarray__\":\"Dkc7WO0yckCafszcbwhxQIGRs5ot42ZAJzog0LQ8eEAWMinKGEd+QI0V5FDt0IJAVCHcmLVPdUAAAAAAAFyTQAAAAAAA6JdAAAAAAAAookAAAAAAADanQAAAAAAAkKtAAAAAAAA2rUAAAAAAACaxQA==\",\"dtype\":\"float64\",\"order\":\"little\",\"shape\":[14]},\"xoffsets\":[[\"2010\",\"sale_price_sqr_foot\"],[\"2011\",\"sale_price_sqr_foot\"],[\"2012\",\"sale_price_sqr_foot\"],[\"2013\",\"sale_price_sqr_foot\"],[\"2014\",\"sale_price_sqr_foot\"],[\"2015\",\"sale_price_sqr_foot\"],[\"2016\",\"sale_price_sqr_foot\"],[\"2010\",\"gross_rent\"],[\"2011\",\"gross_rent\"],[\"2012\",\"gross_rent\"],[\"2013\",\"gross_rent\"],[\"2014\",\"gross_rent\"],[\"2015\",\"gross_rent\"],[\"2016\",\"gross_rent\"]],\"year\":[\"2010\",\"2011\",\"2012\",\"2013\",\"2014\",\"2015\",\"2016\",\"2010\",\"2011\",\"2012\",\"2013\",\"2014\",\"2015\",\"2016\"]},\"selected\":{\"id\":\"25848\"},\"selection_policy\":{\"id\":\"25876\"}},\"id\":\"25847\",\"type\":\"ColumnDataSource\"},{\"attributes\":{\"source\":{\"id\":\"26177\"}},\"id\":\"26184\",\"type\":\"CDSView\"},{\"attributes\":{},\"id\":\"26571\",\"type\":\"Selection\"},{\"attributes\":{},\"id\":\"25927\",\"type\":\"CategoricalScale\"},{\"attributes\":{\"active_multi\":null,\"tools\":[{\"id\":\"25992\"},{\"id\":\"26009\"},{\"id\":\"26010\"},{\"id\":\"26011\"},{\"id\":\"26012\"},{\"id\":\"26013\"}]},\"id\":\"26015\",\"type\":\"Toolbar\"},{\"attributes\":{},\"id\":\"26570\",\"type\":\"UnionRenderers\"},{\"attributes\":{},\"id\":\"25965\",\"type\":\"BasicTickFormatter\"},{\"attributes\":{\"fill_color\":{\"field\":\"Variable\",\"transform\":{\"id\":\"25846\"}},\"top\":{\"field\":\"value\"},\"width\":{\"value\":0.8},\"x\":{\"field\":\"xoffsets\"}},\"id\":\"25850\",\"type\":\"VBar\"},{\"attributes\":{\"fill_alpha\":{\"value\":0.2},\"fill_color\":{\"value\":\"#2F4F4F\"},\"line_alpha\":{\"value\":0.2},\"top\":{\"field\":\"sale_price_sqr_foot\"},\"width\":{\"value\":0.5},\"x\":{\"field\":\"neighborhood\"}},\"id\":\"25956\",\"type\":\"VBar\"},{\"attributes\":{\"overlay\":{\"id\":\"25838\"}},\"id\":\"25836\",\"type\":\"BoxZoomTool\"},{\"attributes\":{},\"id\":\"26573\",\"type\":\"Selection\"},{\"attributes\":{\"children\":[{\"id\":\"25900\"},{\"id\":\"25901\"}],\"margin\":[0,0,0,0],\"name\":\"Column22476\"},\"id\":\"25899\",\"type\":\"Column\"},{\"attributes\":{\"args\":{\"model\":{\"id\":\"25898\"}},\"code\":\"model.visible = (cb_obj.active == 0);\",\"tags\":[\"plotly_tab_fix25898\"]},\"id\":\"27216\",\"type\":\"CustomJS\"},{\"attributes\":{},\"id\":\"26226\",\"type\":\"LinearScale\"},{\"attributes\":{},\"id\":\"26572\",\"type\":\"UnionRenderers\"},{\"attributes\":{\"bottom_units\":\"screen\",\"fill_alpha\":0.5,\"fill_color\":\"lightgrey\",\"left_units\":\"screen\",\"level\":\"overlay\",\"line_alpha\":1.0,\"line_color\":\"black\",\"line_dash\":[4,4],\"line_width\":2,\"right_units\":\"screen\",\"syncable\":false,\"top_units\":\"screen\"},\"id\":\"26014\",\"type\":\"BoxAnnotation\"},{\"attributes\":{\"text\":\"The Top 10 Most Expensive Neighborhoods\",\"text_color\":\"black\",\"text_font_size\":\"12pt\"},\"id\":\"25747\",\"type\":\"Title\"},{\"attributes\":{},\"id\":\"25798\",\"type\":\"UnionRenderers\"},{\"attributes\":{\"line_alpha\":0.1,\"line_color\":\"#8B0000\",\"line_width\":2,\"x\":{\"field\":\"year\"},\"y\":{\"field\":\"gross_rent\"}},\"id\":\"26255\",\"type\":\"Line\"},{\"attributes\":{\"line_color\":\"#8B0000\",\"line_width\":2,\"x\":{\"field\":\"year\"},\"y\":{\"field\":\"gross_rent\"}},\"id\":\"26254\",\"type\":\"Line\"},{\"attributes\":{},\"id\":\"26178\",\"type\":\"Selection\"},{\"attributes\":{\"line_alpha\":0.2,\"line_color\":\"#8B0000\",\"line_width\":2,\"x\":{\"field\":\"year\"},\"y\":{\"field\":\"gross_rent\"}},\"id\":\"26256\",\"type\":\"Line\"},{\"attributes\":{\"args\":{\"model\":{\"id\":\"25905\"}},\"code\":\"model.visible = (cb_obj.active == 0);\",\"tags\":[\"plotly_tab_fix25905\"]},\"id\":\"26992\",\"type\":\"CustomJS\"},{\"attributes\":{\"below\":[{\"id\":\"26230\"}],\"center\":[{\"id\":\"26233\"},{\"id\":\"26237\"}],\"height\":300,\"left\":[{\"id\":\"26234\"}],\"margin\":null,\"min_border_bottom\":10,\"min_border_left\":10,\"min_border_right\":10,\"min_border_top\":10,\"renderers\":[{\"id\":\"26257\"}],\"sizing_mode\":\"fixed\",\"title\":{\"id\":\"26222\"},\"toolbar\":{\"id\":\"26244\"},\"toolbar_location\":null,\"width\":500,\"x_range\":{\"id\":\"26073\"},\"x_scale\":{\"id\":\"26226\"},\"y_range\":{\"id\":\"26074\"},\"y_scale\":{\"id\":\"26228\"}},\"id\":\"26221\",\"subtype\":\"Figure\",\"type\":\"Plot\"},{\"attributes\":{\"child\":{\"id\":\"25907\"},\"name\":\"Column24152\",\"title\":\"San Francisco Neighborhood Map\"},\"id\":\"25914\",\"type\":\"Panel\"},{\"attributes\":{},\"id\":\"26261\",\"type\":\"AllLabels\"},{\"attributes\":{},\"id\":\"26264\",\"type\":\"AllLabels\"},{\"attributes\":{\"factors\":[\"Union Square District\",\"Merced Heights\",\"Miraloma Park\",\"Pacific Heights\",\"Westwood Park\",\"Telegraph Hill\",\"Presidio Heights\",\"Cow Hollow\",\"Potrero Hill\",\"South Beach\"],\"tags\":[[[\"neighborhood\",\"neighborhood\",null]]]},\"id\":\"25743\",\"type\":\"FactorRange\"},{\"attributes\":{\"child\":{\"id\":\"26069\"},\"name\":\"Row24060\",\"title\":\"Average Gross Rent and Sales Price Per Year\"},\"id\":\"26212\",\"type\":\"Panel\"},{\"attributes\":{\"margin\":[5,5,5,5],\"name\":\"VSpacer23972\",\"sizing_mode\":\"stretch_height\"},\"id\":\"26536\",\"type\":\"Spacer\"},{\"attributes\":{\"text_color\":\"black\",\"text_font_size\":\"12pt\"},\"id\":\"26222\",\"type\":\"Title\"},{\"attributes\":{\"args\":{\"model\":{\"id\":\"25913\"}},\"code\":\"model.visible = (cb_obj.active == 1);\",\"tags\":[\"plotly_tab_fix25913\"]},\"id\":\"27105\",\"type\":\"CustomJS\"}],\"root_ids\":[\"25736\",\"27389\",\"27648\"]},\"title\":\"Bokeh Application\",\"version\":\"2.3.2\"}};\n",
       "    var render_items = [{\"docid\":\"c1f6efa3-c1fa-46b1-9ef9-44be963b4b62\",\"root_ids\":[\"25736\"],\"roots\":{\"25736\":\"858cb415-81be-47e9-b258-f380dd8830b9\"}}];\n",
       "    root.Bokeh.embed.embed_items_notebook(docs_json, render_items);\n",
       "  }\n",
       "  if (root.Bokeh !== undefined && root.Bokeh.Panel !== undefined && ( root['Plotly'] !== undefined)) {\n",
       "    embed_document(root);\n",
       "  } else {\n",
       "    var attempts = 0;\n",
       "    var timer = setInterval(function(root) {\n",
       "      if (root.Bokeh !== undefined && root.Bokeh.Panel !== undefined && (root['Plotly'] !== undefined)) {\n",
       "        clearInterval(timer);\n",
       "        embed_document(root);\n",
       "      } else if (document.readyState == \"complete\") {\n",
       "        attempts++;\n",
       "        if (attempts > 200) {\n",
       "          clearInterval(timer);\n",
       "          console.log(\"Bokeh: ERROR: Unable to run BokehJS code because BokehJS library is missing\");\n",
       "        }\n",
       "      }\n",
       "    }, 25, root)\n",
       "  }\n",
       "})(window);</script>"
      ],
      "text/plain": [
       "Tabs\n",
       "    [0] Column\n",
       "        [0] Markdown(str)\n",
       "        [1] Row\n",
       "            [0] Column\n",
       "                [0] Column()\n",
       "                [1] Row\n",
       "                    [0] HoloViews(Bars, name='interactive24153')\n",
       "            [1] Column\n",
       "                [0] Column()\n",
       "                [1] Row\n",
       "                    [0] Row(name='interactive24239')\n",
       "                        [0] HoloViews(DynamicMap, name='interactive24239')\n",
       "                        [1] Column\n",
       "                            [0] WidgetBox\n",
       "                                [0] Select(margin=(20, 20, 20, 20), name='neighborhood', options=['Alamo Square', ...], value='Alamo Square', width=250)\n",
       "                            [1] VSpacer()\n",
       "        [2] Column\n",
       "            [0] Markdown(str)\n",
       "            [1] Column\n",
       "                [0] Column()\n",
       "                [1] Row\n",
       "                    [0] Plotly(Figure, name='interactive24146', visible=False)\n",
       "        [3] Column\n",
       "            [0] Markdown(str)\n",
       "            [1] Column\n",
       "                [0] Column()\n",
       "                [1] Row\n",
       "                    [0] Plotly(Figure, name='interactive22470')\n",
       "    [1] Column\n",
       "        [0] Markdown(str)\n",
       "        [1] Column\n",
       "            [0] Column()\n",
       "            [1] Row\n",
       "                [0] Plotly(Figure, name='interactive24146', visible=False)\n",
       "    [2] Row\n",
       "        [0] Column\n",
       "            [0] Column()\n",
       "            [1] Row\n",
       "                [0] HoloViews(Bars, name='interactive24153')\n",
       "        [1] Column\n",
       "            [0] Column()\n",
       "            [1] Row\n",
       "                [0] Row(name='interactive24239')\n",
       "                    [0] HoloViews(DynamicMap, name='interactive24239')\n",
       "                    [1] Column\n",
       "                        [0] WidgetBox\n",
       "                            [0] Select(margin=(20, 20, 20, 20), name='neighborhood', options=['Alamo Square', ...], value='Alamo Square', width=250)\n",
       "                        [1] VSpacer()\n",
       "    [3] Row\n",
       "        [0] Column\n",
       "            [0] Column()\n",
       "            [1] Row\n",
       "                [0] HoloViews(Curve, name='interactive23977')\n",
       "        [1] Column\n",
       "            [0] Column()\n",
       "            [1] Row\n",
       "                [0] HoloViews(Curve, name='interactive24061')\n",
       "    [4] Row\n",
       "        [0] Column\n",
       "            [0] Column()\n",
       "            [1] Row\n",
       "                [0] Row(name='interactive23913')\n",
       "                    [0] HoloViews(Layout, name='interactive23913')\n",
       "                    [1] Column\n",
       "                        [0] WidgetBox\n",
       "                            [0] Select(margin=(20, 20, 20, 20), name='neighborhood', options=['Alamo Square', ...], value='Alamo Square', width=250)\n",
       "                        [1] VSpacer()"
      ]
     },
     "execution_count": 27,
     "metadata": {
      "application/vnd.holoviews_exec.v0+json": {
       "id": "25736"
      }
     },
     "output_type": "execute_result"
    }
   ],
   "source": [
    "# Create a Title for the Dashboard\n",
    "\n",
    "\n",
    "# Create a tab layout for the dashboard\n",
    "\n",
    "avgg_row=pn.Row(average_price_by_neighborhood)\n",
    "\n",
    "avg_row= pn.Row(average_gross_rent)\n",
    "avg_row.append(average_sales_price)\n",
    "\n",
    "\n",
    "\n",
    "scatter_column = pn.Column(\n",
    "    \"## Neighborhood Map\", neighborhood_map\n",
    ")\n",
    "\n",
    "    # Put bar plots in row\n",
    "row_of_bar = pn.Row(top_most_expensive_neighborhoods)\n",
    "row_of_bar.append(most_expensive_neighborhoods_rent_sales)\n",
    "\n",
    "\n",
    "\n",
    "\n",
    "plots_as_column = pn.Column(\n",
    "    \"# San Francisco Rental Prices Dashboard\",\n",
    "    #row_of_parallel,\n",
    "    row_of_bar,\n",
    "    scatter_column,\n",
    "    housing_units_column,\n",
    ")\n",
    "\n",
    "housing_units_column = pn.Column(\n",
    "    \"##Housing Units Per Year\", housing_units_per_year\n",
    ")\n",
    "\n",
    "\n",
    "\n",
    "# Create the dashboard\n",
    "panel_dashboard = pn.Tabs(\n",
    "    (\"All Plots\", plots_as_column),\n",
    "    (\"San Francisco Neighborhood Map\", scatter_column),\n",
    "    (\"Most Expensive Neighborhoods\", row_of_bar),\n",
    "    (\"Average Gross Rent and Sales Price Per Year\", avg_row),\n",
    "    (\"Average Prices by Neighborhood\", avgg_row)\n",
    "   # (\"Statistical Plots\", row_of_parallel)\n",
    ")\n",
    "panel_dashboard"
   ]
  },
  {
   "cell_type": "markdown",
   "metadata": {},
   "source": [
    "## Serve the Panel Dashboard"
   ]
  },
  {
   "cell_type": "code",
   "execution_count": 34,
   "metadata": {},
   "outputs": [
    {
     "ename": "AttributeError",
     "evalue": "'Tabs' object has no attribute 'run_server'",
     "output_type": "error",
     "traceback": [
      "\u001b[1;31m---------------------------------------------------------------------------\u001b[0m",
      "\u001b[1;31mAttributeError\u001b[0m                            Traceback (most recent call last)",
      "\u001b[1;32m<ipython-input-34-12f8d7a268b0>\u001b[0m in \u001b[0;36m<module>\u001b[1;34m\u001b[0m\n\u001b[0;32m      2\u001b[0m \u001b[0mapp\u001b[0m\u001b[1;33m=\u001b[0m \u001b[0mpanel_dashboard\u001b[0m\u001b[1;33m\u001b[0m\u001b[1;33m\u001b[0m\u001b[0m\n\u001b[0;32m      3\u001b[0m \u001b[1;32mif\u001b[0m \u001b[0m__name__\u001b[0m \u001b[1;33m==\u001b[0m \u001b[1;34m\"__main__\"\u001b[0m\u001b[1;33m:\u001b[0m\u001b[1;33m\u001b[0m\u001b[1;33m\u001b[0m\u001b[0m\n\u001b[1;32m----> 4\u001b[1;33m     \u001b[0mapp\u001b[0m\u001b[1;33m.\u001b[0m\u001b[0mrun_server\u001b[0m\u001b[1;33m(\u001b[0m\u001b[0mdebug\u001b[0m\u001b[1;33m=\u001b[0m\u001b[1;32mTrue\u001b[0m\u001b[1;33m)\u001b[0m\u001b[1;33m\u001b[0m\u001b[1;33m\u001b[0m\u001b[0m\n\u001b[0m",
      "\u001b[1;31mAttributeError\u001b[0m: 'Tabs' object has no attribute 'run_server'"
     ]
    }
   ],
   "source": [
    "# Serve the# dashboard\n",
    "app= panel_dashboard\n"
   ]
  },
  {
   "cell_type": "markdown",
   "metadata": {},
   "source": [
    "# Debugging\n",
    "\n",
    "Note: Some of the Plotly express plots may not render in the notebook through the panel functions.\n",
    "\n",
    "However, you can test each plot by uncommenting the following code"
   ]
  },
  {
   "cell_type": "code",
   "execution_count": 55,
   "metadata": {},
   "outputs": [],
   "source": [
    "#housing_units_per_year()\n"
   ]
  },
  {
   "cell_type": "code",
   "execution_count": 57,
   "metadata": {},
   "outputs": [],
   "source": [
    "#average_gross_rent()"
   ]
  },
  {
   "cell_type": "code",
   "execution_count": 61,
   "metadata": {},
   "outputs": [],
   "source": [
    "#average_sales_price()"
   ]
  },
  {
   "cell_type": "code",
   "execution_count": 60,
   "metadata": {},
   "outputs": [],
   "source": [
    "#average_price_by_neighborhood()"
   ]
  },
  {
   "cell_type": "code",
   "execution_count": 63,
   "metadata": {},
   "outputs": [],
   "source": [
    "#top_most_expensive_neighborhoods()"
   ]
  },
  {
   "cell_type": "code",
   "execution_count": null,
   "metadata": {},
   "outputs": [],
   "source": [
    "# most_expensive_neighborhoods_rent_sales()"
   ]
  },
  {
   "cell_type": "code",
   "execution_count": null,
   "metadata": {},
   "outputs": [],
   "source": [
    "# neighborhood_map().show()"
   ]
  },
  {
   "cell_type": "code",
   "execution_count": null,
   "metadata": {},
   "outputs": [],
   "source": [
    "# parallel_categories()"
   ]
  },
  {
   "cell_type": "code",
   "execution_count": null,
   "metadata": {},
   "outputs": [],
   "source": [
    "# parallel_coordinates()"
   ]
  },
  {
   "cell_type": "code",
   "execution_count": null,
   "metadata": {},
   "outputs": [],
   "source": [
    "# sunburst()"
   ]
  },
  {
   "cell_type": "code",
   "execution_count": null,
   "metadata": {},
   "outputs": [],
   "source": []
  }
 ],
 "metadata": {
  "file_extension": ".py",
  "kernelspec": {
   "display_name": "Python [conda env:pyvizenv] *",
   "language": "python",
   "name": "conda-env-pyvizenv-py"
  },
  "language_info": {
   "codemirror_mode": {
    "name": "ipython",
    "version": 3
   },
   "file_extension": ".py",
   "mimetype": "text/x-python",
   "name": "python",
   "nbconvert_exporter": "python",
   "pygments_lexer": "ipython3",
   "version": "3.7.10"
  },
  "mimetype": "text/x-python",
  "name": "python",
  "npconvert_exporter": "python",
  "pygments_lexer": "ipython3",
  "version": 3
 },
 "nbformat": 4,
 "nbformat_minor": 4
}

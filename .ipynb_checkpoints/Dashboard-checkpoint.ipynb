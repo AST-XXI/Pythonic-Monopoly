{
 "cells": [
  {
   "cell_type": "markdown",
   "metadata": {},
   "source": [
    "# San Francisco Rental Prices Dashboard\n",
    "\n",
    "In this notebook, you will compile the visualizations from the previous analysis into functions that can be used for a Panel dashboard."
   ]
  },
  {
   "cell_type": "code",
   "execution_count": 67,
   "metadata": {},
   "outputs": [],
   "source": [
    "# imports\n",
    "import numpy as np\n",
    "import panel as pn\n",
    "pn.extension('plotly')\n",
    "import plotly.express as px\n",
    "import pandas as pd\n",
    "import hvplot.pandas\n",
    "import matplotlib.pyplot as plt\n",
    "import os\n",
    "from pathlib import Path\n",
    "from dotenv import load_dotenv\n",
    "\n"
   ]
  },
  {
   "cell_type": "code",
   "execution_count": 68,
   "metadata": {},
   "outputs": [],
   "source": [
    "# Read the Mapbox API key\n",
    "load_dotenv()\n",
    "map_box_api = os.getenv(\"mapbox\")\n",
    "px.set_mapbox_access_token(map_box_api)"
   ]
  },
  {
   "cell_type": "markdown",
   "metadata": {},
   "source": [
    "# Import Data"
   ]
  },
  {
   "cell_type": "code",
   "execution_count": 69,
   "metadata": {},
   "outputs": [],
   "source": [
    "# Import the necessary CSVs to Pandas DataFrames\n",
    "file_path = Path(\"Data/sfo_neighborhoods_census_data.csv\")\n",
    "sfo_data = pd.read_csv(file_path, index_col=\"year\", infer_datetime_format=True,parse_dates=True,)\n",
    "\n",
    "file_path2 = Path(\"Data/neighborhoods_coordinates.csv\")\n",
    "neighborhood_map_coordinates = pd.read_csv(file_path2)\n",
    "\n",
    "\n"
   ]
  },
  {
   "cell_type": "markdown",
   "metadata": {},
   "source": [
    "- - -"
   ]
  },
  {
   "cell_type": "markdown",
   "metadata": {},
   "source": [
    "## Panel Visualizations\n",
    "\n",
    "In this section, you will copy the code for each plot type from your analysis notebook and place it into separate functions that Panel can use to create panes for the dashboard. \n",
    "\n",
    "These functions will convert the plot object to a Panel pane.\n",
    "\n",
    "Be sure to include any DataFrame transformation/manipulation code required along with the plotting code.\n",
    "\n",
    "Return a Panel pane object from each function that can be used to build the dashboard.\n",
    "\n",
    "Note: Remove any `.show()` lines from the code. We want to return the plots instead of showing them. The Panel dashboard will then display the plots."
   ]
  },
  {
   "cell_type": "code",
   "execution_count": 70,
   "metadata": {},
   "outputs": [],
   "source": [
    "# Define Panel Visualization Functions\n",
    "def housing_units_per_year():\n",
    "    \"\"\"Housing Units Per Year.\"\"\"\n",
    "    housing_units_per_yr = (\n",
    "        sfo_data[[\"housing_units\"]].groupby([sfo_data.index.year]).mean()\n",
    "    )\n",
    "    \n",
    "    housing_units_per_yr_fig= px.bar(housing_units_per_yr,\n",
    "                                 title='Housing Units in San Francisco from 2010 to 2016', \n",
    "                                 labels={'value':'Housing Units', 'year':\"Year\"},\n",
    "                                 range_y=(367500, 387500))\n",
    "    return housing_units_per_yr_fig\n",
    "    \n",
    "\n",
    "\n",
    "def average_gross_rent():\n",
    "    \"\"\"Average Gross Rent in San Francisco Per Year.\"\"\"\n",
    "    \n",
    "    average_housing_costs = (\n",
    "    sfo_data[[\"sale_price_sqr_foot\", \"gross_rent\"]].groupby([sfo_data.index.year]).mean()\n",
    "    )\n",
    "    average_montly_rent_fig = average_housing_costs.hvplot.line(\n",
    "        y=[\"gross_rent\"],\n",
    "        xlabel= (\"Years\"),\n",
    "        ylabel= (\"Monthly Rent\"),\n",
    "        label='Average Gross Rent by Year', line_color= \"#2F4F4F\")\n",
    "    return average_montly_rent_fig\n",
    "\n",
    "\n",
    "def average_sales_price():\n",
    "    \"\"\"Average Sales Price Per Year.\"\"\"\n",
    "    \n",
    "    average_housing_costs = (\n",
    "    sfo_data[[\"sale_price_sqr_foot\", \"gross_rent\"]].groupby([sfo_data.index.year]).mean()\n",
    "    )\n",
    "    average_saleprice_prsqft_fig = average_housing_costs.hvplot.line(\n",
    "        y=[\"sale_price_sqr_foot\"],\n",
    "        xlabel= (\"Years\"),\n",
    "        ylabel= (\"Price per SqFt\"),\n",
    "        label='Average Price per SqFt by Year',\n",
    "        line_color= \"#8B0000\")\n",
    "    return average_saleprice_prsqft_fig\n",
    "\n",
    "    \n",
    "\n",
    "\n",
    "\n",
    "def average_price_by_neighborhood():\n",
    "    \"\"\"Average Prices by Neighborhood.\"\"\"\n",
    "    \n",
    "    prices_by_neighborhood =(\n",
    "        sfo_data[['neighborhood', 'sale_price_sqr_foot', 'housing_units', 'gross_rent']]\n",
    "        .groupby([sfo_data.index.year, \"neighborhood\"])\n",
    "        .mean()\n",
    "        .reset_index()\n",
    "    )\n",
    "    avg_price_sqft_neighborhood_fig = prices_by_neighborhood.hvplot.line(\n",
    "        y=[\"sale_price_sqr_foot\"],\n",
    "        x=\"year\",\n",
    "        xlabel= (\"Years\"),\n",
    "        ylabel= (\"Avg. Sale Price per SqFt\"),\n",
    "        groupby= 'neighborhood',\n",
    "        color= (\"#2F4F4F\"),\n",
    "        width=600,\n",
    "    )\n",
    "    avg_monthly_rent_neighborhood_fig = prices_by_neighborhood.hvplot.line(\n",
    "        y=[\"gross_rent\"],\n",
    "        x=\"year\",\n",
    "        xlabel= (\"Years\"),\n",
    "        ylabel= (\"Avg. Gross Rent Year\"),\n",
    "        groupby= 'neighborhood',\n",
    "        color= (\"#8B0000\"),\n",
    "        width=500,\n",
    "    )\n",
    "    return avg_monthly_rent_neighborhood_fig + avg_price_sqft_neighborhood_fig\n",
    "\n",
    "    \n",
    "    \n",
    "def top_most_expensive_neighborhoods():\n",
    "    \"\"\"Top 10 Most Expensive Neighborhoods.\"\"\"\n",
    "\n",
    "    most_expensive =( \n",
    "        sfo_data.groupby([\"neighborhood\"]).mean())\n",
    "    most_exp_sort= most_expensive.nlargest(10, 'sale_price_sqr_foot').reset_index()\n",
    "    most_exp_plot = most_exp_sort.hvplot.bar(\n",
    "        y=\"sale_price_sqr_foot\",\n",
    "        x=(\"neighborhood\"),\n",
    "        xlabel= (\"Neighborhood\"),\n",
    "        ylabel= (\"Avg. Sale Price per Sqr Ft\"),\n",
    "        rot=90,\n",
    "        title= (\"The Top 10 Most Expensive Neighborhoods\"),\n",
    "        color= (\"#2F4F4F\"),\n",
    "        bar_width=0.5,\n",
    "    )\n",
    "    return most_exp_plot\n",
    "\n",
    "\n",
    "\n",
    "def most_expensive_neighborhoods_rent_sales():\n",
    "    \"\"\"Comparison of Rent and Sales Prices of Most Expensive Neighborhoods.\"\"\"   \n",
    "    prices_by_neighborhood =(\n",
    "    sfo_data[['neighborhood', 'sale_price_sqr_foot', 'housing_units', 'gross_rent']]\n",
    "    .groupby([sfo_data.index.year, \"neighborhood\"])\n",
    "    .mean()\n",
    "    .reset_index()\n",
    ")\n",
    "    table = prices_by_neighborhood.groupby(['year', 'neighborhood','sale_price_sqr_foot','gross_rent' ]).mean().reset_index()\n",
    "    most_exp_sqrft_vs_rent_plot = table.hvplot.bar(\n",
    "        y= (\"sale_price_sqr_foot\", \"gross_rent\"),\n",
    "        x=\"year\",\n",
    "        groupby= 'neighborhood', \n",
    "        rot=90,\n",
    "        height= 400,\n",
    "        width=600,\n",
    "        xlabel= (\"Neighborhood\"),\n",
    "        ylabel= (\"Avg. Cost/Rental income\"),\n",
    "        title= (\"Cost to purchase versus rental income\"),\n",
    "    )\n",
    "    return most_exp_sqrft_vs_rent_plot\n",
    "\n",
    "    \n",
    "    \n",
    "#def parallel_coordinates():\n",
    " #   \"\"\"Parallel Coordinates Plot.\"\"\"\n",
    "\n",
    "    # YOUR CODE HERE!\n",
    "\n",
    "\n",
    "\n",
    "#def parallel_categories():\n",
    " #   \"\"\"Parallel Categories Plot.\"\"\"\n",
    "    \n",
    "    # YOUR CODE HERE!\n",
    "\n",
    "\n",
    "\n",
    "def neighborhood_map():\n",
    "    \"\"\"Neighborhood Map.\"\"\"\n",
    "    most_expensive =( \n",
    "    sfo_data.groupby([\"neighborhood\"]).mean())\n",
    "    m_neighborhood= most_expensive.reset_index()\n",
    "    mean_neighborhood= m_neighborhood.drop(columns=[\"neighborhood\"])\n",
    "    avg_neighborhood_locations= pd.concat([neighborhood_map_coordinates, mean_neighborhood], axis=1)\n",
    "    map_1 = px.scatter_mapbox(\n",
    "        avg_neighborhood_locations,\n",
    "        lat=\"Lat\",\n",
    "        lon=\"Lon\",\n",
    "        size=\"sale_price_sqr_foot\",\n",
    "        color=\"gross_rent\",\n",
    "        hover_name= \"Neighborhood\",\n",
    "        color_continuous_scale=px.colors.cyclical.IceFire, size_max=15, zoom=10,\n",
    "        mapbox_style= \"carto-positron\",\n",
    "    )\n",
    "    return map_1\n",
    "\n",
    "#def sunburst():\n",
    "  #  \"\"\"Sunburst Plot.\"\"\"\n",
    "    \n",
    "    # YOUR CODE HERE!\n"
   ]
  },
  {
   "cell_type": "markdown",
   "metadata": {},
   "source": [
    "## Panel Dashboard\n",
    "\n",
    "In this section, you will combine all of the plots into a single dashboard view using Panel. Be creative with your dashboard design!"
   ]
  },
  {
   "cell_type": "code",
   "execution_count": 72,
   "metadata": {},
   "outputs": [],
   "source": [
    "# Create a Title for the Dashboard\n",
    "\n",
    "\n",
    "# Create a tab layout for the dashboard\n",
    "\n",
    "avgg_row=pn.Row(average_price_by_neighborhood)\n",
    "\n",
    "avg_row= pn.Row(average_gross_rent)\n",
    "avg_row.append(average_sales_price)\n",
    "\n",
    "\n",
    "\n",
    "scatter_column = pn.Column(\n",
    "    \"## Neighborhood Map\", neighborhood_map\n",
    ")\n",
    "\n",
    "    # Put bar plots in row\n",
    "row_of_bar = pn.Row(top_most_expensive_neighborhoods)\n",
    "row_of_bar.append(most_expensive_neighborhoods_rent_sales)\n",
    "\n",
    "\n",
    "housing_column = pn.Column(\n",
    "    \"## Housing Units Per Year.\", housing_units_per_year\n",
    ")\n",
    "\n",
    "\n",
    "\n",
    "\n",
    "plots_as_column = pn.Column(\n",
    "    \"# San Francisco Rental Prices Dashboard\",\n",
    "    #row_of_parallel,\n",
    "    row_of_bar,\n",
    "    scatter_column,\n",
    "    housing_column)\n",
    "\n",
    "\n",
    "\n",
    "\n",
    "\n",
    "# Create the dashboard\n",
    "panel_dashboard = pn.Tabs(\n",
    "    (\"All Plots\", plots_as_column),\n",
    "    (\"San Francisco Neighborhood Map\", scatter_column),\n",
    "    (\"Most Expensive Neighborhoods\", row_of_bar),\n",
    "    (\"Average Gross Rent and Sales Price Per Year\", avg_row),\n",
    "    (\"Average Prices by Neighborhood\", avgg_row)\n",
    "   # (\"Statistical Plots\", row_of_parallel)\n",
    ")\n",
    "#panel_dashboard"
   ]
  },
  {
   "cell_type": "markdown",
   "metadata": {},
   "source": [
    "## Serve the Panel Dashboard"
   ]
  },
  {
   "cell_type": "code",
   "execution_count": 75,
   "metadata": {},
   "outputs": [
    {
     "name": "stdout",
     "output_type": "stream",
     "text": [
      "Launching server at http://localhost:52218\n"
     ]
    },
    {
     "data": {
      "text/plain": [
       "<bokeh.server.server.Server at 0x157d96a6ec8>"
      ]
     },
     "execution_count": 75,
     "metadata": {},
     "output_type": "execute_result"
    }
   ],
   "source": [
    "# Serve the dashboard using pn.serve\n",
    "\n",
    "pn.serve(panel_dashboard)\n"
   ]
  },
  {
   "cell_type": "markdown",
   "metadata": {},
   "source": [
    "# Debugging\n",
    "\n",
    "Note: Some of the Plotly express plots may not render in the notebook through the panel functions.\n",
    "\n",
    "However, you can test each plot by uncommenting the following code"
   ]
  },
  {
   "cell_type": "code",
   "execution_count": 20,
   "metadata": {},
   "outputs": [],
   "source": [
    "#housing_units_per_year()\n"
   ]
  },
  {
   "cell_type": "code",
   "execution_count": 57,
   "metadata": {},
   "outputs": [],
   "source": [
    "#average_gross_rent()"
   ]
  },
  {
   "cell_type": "code",
   "execution_count": 61,
   "metadata": {},
   "outputs": [],
   "source": [
    "#average_sales_price()"
   ]
  },
  {
   "cell_type": "code",
   "execution_count": 60,
   "metadata": {},
   "outputs": [],
   "source": [
    "#average_price_by_neighborhood()"
   ]
  },
  {
   "cell_type": "code",
   "execution_count": 63,
   "metadata": {},
   "outputs": [],
   "source": [
    "#top_most_expensive_neighborhoods()"
   ]
  },
  {
   "cell_type": "code",
   "execution_count": null,
   "metadata": {},
   "outputs": [],
   "source": [
    "# most_expensive_neighborhoods_rent_sales()"
   ]
  },
  {
   "cell_type": "code",
   "execution_count": null,
   "metadata": {},
   "outputs": [],
   "source": [
    "# neighborhood_map().show()"
   ]
  },
  {
   "cell_type": "code",
   "execution_count": null,
   "metadata": {},
   "outputs": [],
   "source": [
    "# parallel_categories()"
   ]
  },
  {
   "cell_type": "code",
   "execution_count": null,
   "metadata": {},
   "outputs": [],
   "source": [
    "# parallel_coordinates()"
   ]
  },
  {
   "cell_type": "code",
   "execution_count": null,
   "metadata": {},
   "outputs": [],
   "source": [
    "# sunburst()"
   ]
  },
  {
   "cell_type": "code",
   "execution_count": null,
   "metadata": {},
   "outputs": [],
   "source": []
  }
 ],
 "metadata": {
  "file_extension": ".py",
  "kernelspec": {
   "display_name": "Python 3",
   "language": "python",
   "name": "python3"
  },
  "language_info": {
   "codemirror_mode": {
    "name": "ipython",
    "version": 3
   },
   "file_extension": ".py",
   "mimetype": "text/x-python",
   "name": "python",
   "nbconvert_exporter": "python",
   "pygments_lexer": "ipython3",
   "version": "3.7.10"
  },
  "mimetype": "text/x-python",
  "name": "python",
  "npconvert_exporter": "python",
  "pygments_lexer": "ipython3",
  "version": 3
 },
 "nbformat": 4,
 "nbformat_minor": 4
}
